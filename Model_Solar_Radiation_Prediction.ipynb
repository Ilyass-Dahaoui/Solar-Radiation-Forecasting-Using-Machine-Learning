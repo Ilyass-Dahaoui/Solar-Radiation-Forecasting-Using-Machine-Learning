{
  "nbformat": 4,
  "nbformat_minor": 0,
  "metadata": {
    "colab": {
      "provenance": [],
      "authorship_tag": "ABX9TyOLHLi3D73Rc8Q8QKNChaBW",
      "include_colab_link": true
    },
    "kernelspec": {
      "name": "python3",
      "display_name": "Python 3"
    },
    "language_info": {
      "name": "python"
    }
  },
  "cells": [
    {
      "cell_type": "markdown",
      "metadata": {
        "id": "view-in-github",
        "colab_type": "text"
      },
      "source": [
        "<a href=\"https://colab.research.google.com/github/Ilyass-Dahaoui/Solar-Radiation-Forecasting-Using-Machine-Learning/blob/main/Model_Solar_Radiation_Prediction.ipynb\" target=\"_parent\"><img src=\"https://colab.research.google.com/assets/colab-badge.svg\" alt=\"Open In Colab\"/></a>"
      ]
    },
    {
      "cell_type": "code",
      "execution_count": 34,
      "metadata": {
        "id": "pXf_8Yq6YLBX"
      },
      "outputs": [],
      "source": [
        "import pandas as pd\n",
        "import numpy as np\n",
        "from sklearn.model_selection import train_test_split\n",
        "from sklearn.preprocessing import StandardScaler\n",
        "from sklearn.linear_model import LinearRegression\n",
        "from sklearn.ensemble import RandomForestRegressor\n",
        "from sklearn.metrics import mean_absolute_error, mean_squared_error, r2_score\n",
        "import matplotlib.pyplot as plt\n",
        "import seaborn as sns\n",
        "\n"
      ]
    },
    {
      "cell_type": "code",
      "source": [
        "data_station=pd.read_csv(\"/content/merged_df.csv\")\n",
        "data_weather=pd.read_csv(\"/content/final_df.csv\")\n"
      ],
      "metadata": {
        "id": "kuPi8HW8ZOik"
      },
      "execution_count": 13,
      "outputs": []
    },
    {
      "cell_type": "code",
      "source": [
        "data_station.head()"
      ],
      "metadata": {
        "colab": {
          "base_uri": "https://localhost:8080/",
          "height": 206
        },
        "id": "RcdyZpKuZlvU",
        "outputId": "cac5a192-4032-458b-df2f-c3f36c491220"
      },
      "execution_count": 3,
      "outputs": [
        {
          "output_type": "execute_result",
          "data": {
            "text/plain": [
              "       id             name       address  latitude  longitude  \\\n",
              "0  551172  CFD Firehall #7  2708 4 ST NW  51.07632 -114.07108   \n",
              "1  551172  CFD Firehall #7  2708 4 ST NW  51.07632 -114.07108   \n",
              "2  551172  CFD Firehall #7  2708 4 ST NW  51.07632 -114.07108   \n",
              "3  551172  CFD Firehall #7  2708 4 ST NW  51.07632 -114.07108   \n",
              "4  551172  CFD Firehall #7  2708 4 ST NW  51.07632 -114.07108   \n",
              "\n",
              "                  date    kWh  \n",
              "0  2017-09-21 07:00:00  0.032  \n",
              "1  2017-09-21 08:00:00  0.731  \n",
              "2  2017-09-21 09:00:00  2.027  \n",
              "3  2017-09-21 10:00:00  3.013  \n",
              "4  2017-09-21 11:00:00  3.838  "
            ],
            "text/html": [
              "\n",
              "  <div id=\"df-a037a8f1-e89c-46fc-a470-662aca04bf84\" class=\"colab-df-container\">\n",
              "    <div>\n",
              "<style scoped>\n",
              "    .dataframe tbody tr th:only-of-type {\n",
              "        vertical-align: middle;\n",
              "    }\n",
              "\n",
              "    .dataframe tbody tr th {\n",
              "        vertical-align: top;\n",
              "    }\n",
              "\n",
              "    .dataframe thead th {\n",
              "        text-align: right;\n",
              "    }\n",
              "</style>\n",
              "<table border=\"1\" class=\"dataframe\">\n",
              "  <thead>\n",
              "    <tr style=\"text-align: right;\">\n",
              "      <th></th>\n",
              "      <th>id</th>\n",
              "      <th>name</th>\n",
              "      <th>address</th>\n",
              "      <th>latitude</th>\n",
              "      <th>longitude</th>\n",
              "      <th>date</th>\n",
              "      <th>kWh</th>\n",
              "    </tr>\n",
              "  </thead>\n",
              "  <tbody>\n",
              "    <tr>\n",
              "      <th>0</th>\n",
              "      <td>551172</td>\n",
              "      <td>CFD Firehall #7</td>\n",
              "      <td>2708 4 ST NW</td>\n",
              "      <td>51.07632</td>\n",
              "      <td>-114.07108</td>\n",
              "      <td>2017-09-21 07:00:00</td>\n",
              "      <td>0.032</td>\n",
              "    </tr>\n",
              "    <tr>\n",
              "      <th>1</th>\n",
              "      <td>551172</td>\n",
              "      <td>CFD Firehall #7</td>\n",
              "      <td>2708 4 ST NW</td>\n",
              "      <td>51.07632</td>\n",
              "      <td>-114.07108</td>\n",
              "      <td>2017-09-21 08:00:00</td>\n",
              "      <td>0.731</td>\n",
              "    </tr>\n",
              "    <tr>\n",
              "      <th>2</th>\n",
              "      <td>551172</td>\n",
              "      <td>CFD Firehall #7</td>\n",
              "      <td>2708 4 ST NW</td>\n",
              "      <td>51.07632</td>\n",
              "      <td>-114.07108</td>\n",
              "      <td>2017-09-21 09:00:00</td>\n",
              "      <td>2.027</td>\n",
              "    </tr>\n",
              "    <tr>\n",
              "      <th>3</th>\n",
              "      <td>551172</td>\n",
              "      <td>CFD Firehall #7</td>\n",
              "      <td>2708 4 ST NW</td>\n",
              "      <td>51.07632</td>\n",
              "      <td>-114.07108</td>\n",
              "      <td>2017-09-21 10:00:00</td>\n",
              "      <td>3.013</td>\n",
              "    </tr>\n",
              "    <tr>\n",
              "      <th>4</th>\n",
              "      <td>551172</td>\n",
              "      <td>CFD Firehall #7</td>\n",
              "      <td>2708 4 ST NW</td>\n",
              "      <td>51.07632</td>\n",
              "      <td>-114.07108</td>\n",
              "      <td>2017-09-21 11:00:00</td>\n",
              "      <td>3.838</td>\n",
              "    </tr>\n",
              "  </tbody>\n",
              "</table>\n",
              "</div>\n",
              "    <div class=\"colab-df-buttons\">\n",
              "\n",
              "  <div class=\"colab-df-container\">\n",
              "    <button class=\"colab-df-convert\" onclick=\"convertToInteractive('df-a037a8f1-e89c-46fc-a470-662aca04bf84')\"\n",
              "            title=\"Convert this dataframe to an interactive table.\"\n",
              "            style=\"display:none;\">\n",
              "\n",
              "  <svg xmlns=\"http://www.w3.org/2000/svg\" height=\"24px\" viewBox=\"0 -960 960 960\">\n",
              "    <path d=\"M120-120v-720h720v720H120Zm60-500h600v-160H180v160Zm220 220h160v-160H400v160Zm0 220h160v-160H400v160ZM180-400h160v-160H180v160Zm440 0h160v-160H620v160ZM180-180h160v-160H180v160Zm440 0h160v-160H620v160Z\"/>\n",
              "  </svg>\n",
              "    </button>\n",
              "\n",
              "  <style>\n",
              "    .colab-df-container {\n",
              "      display:flex;\n",
              "      gap: 12px;\n",
              "    }\n",
              "\n",
              "    .colab-df-convert {\n",
              "      background-color: #E8F0FE;\n",
              "      border: none;\n",
              "      border-radius: 50%;\n",
              "      cursor: pointer;\n",
              "      display: none;\n",
              "      fill: #1967D2;\n",
              "      height: 32px;\n",
              "      padding: 0 0 0 0;\n",
              "      width: 32px;\n",
              "    }\n",
              "\n",
              "    .colab-df-convert:hover {\n",
              "      background-color: #E2EBFA;\n",
              "      box-shadow: 0px 1px 2px rgba(60, 64, 67, 0.3), 0px 1px 3px 1px rgba(60, 64, 67, 0.15);\n",
              "      fill: #174EA6;\n",
              "    }\n",
              "\n",
              "    .colab-df-buttons div {\n",
              "      margin-bottom: 4px;\n",
              "    }\n",
              "\n",
              "    [theme=dark] .colab-df-convert {\n",
              "      background-color: #3B4455;\n",
              "      fill: #D2E3FC;\n",
              "    }\n",
              "\n",
              "    [theme=dark] .colab-df-convert:hover {\n",
              "      background-color: #434B5C;\n",
              "      box-shadow: 0px 1px 3px 1px rgba(0, 0, 0, 0.15);\n",
              "      filter: drop-shadow(0px 1px 2px rgba(0, 0, 0, 0.3));\n",
              "      fill: #FFFFFF;\n",
              "    }\n",
              "  </style>\n",
              "\n",
              "    <script>\n",
              "      const buttonEl =\n",
              "        document.querySelector('#df-a037a8f1-e89c-46fc-a470-662aca04bf84 button.colab-df-convert');\n",
              "      buttonEl.style.display =\n",
              "        google.colab.kernel.accessAllowed ? 'block' : 'none';\n",
              "\n",
              "      async function convertToInteractive(key) {\n",
              "        const element = document.querySelector('#df-a037a8f1-e89c-46fc-a470-662aca04bf84');\n",
              "        const dataTable =\n",
              "          await google.colab.kernel.invokeFunction('convertToInteractive',\n",
              "                                                    [key], {});\n",
              "        if (!dataTable) return;\n",
              "\n",
              "        const docLinkHtml = 'Like what you see? Visit the ' +\n",
              "          '<a target=\"_blank\" href=https://colab.research.google.com/notebooks/data_table.ipynb>data table notebook</a>'\n",
              "          + ' to learn more about interactive tables.';\n",
              "        element.innerHTML = '';\n",
              "        dataTable['output_type'] = 'display_data';\n",
              "        await google.colab.output.renderOutput(dataTable, element);\n",
              "        const docLink = document.createElement('div');\n",
              "        docLink.innerHTML = docLinkHtml;\n",
              "        element.appendChild(docLink);\n",
              "      }\n",
              "    </script>\n",
              "  </div>\n",
              "\n",
              "\n",
              "<div id=\"df-69b0016f-f73a-4f3d-a306-337878916f88\">\n",
              "  <button class=\"colab-df-quickchart\" onclick=\"quickchart('df-69b0016f-f73a-4f3d-a306-337878916f88')\"\n",
              "            title=\"Suggest charts\"\n",
              "            style=\"display:none;\">\n",
              "\n",
              "<svg xmlns=\"http://www.w3.org/2000/svg\" height=\"24px\"viewBox=\"0 0 24 24\"\n",
              "     width=\"24px\">\n",
              "    <g>\n",
              "        <path d=\"M19 3H5c-1.1 0-2 .9-2 2v14c0 1.1.9 2 2 2h14c1.1 0 2-.9 2-2V5c0-1.1-.9-2-2-2zM9 17H7v-7h2v7zm4 0h-2V7h2v10zm4 0h-2v-4h2v4z\"/>\n",
              "    </g>\n",
              "</svg>\n",
              "  </button>\n",
              "\n",
              "<style>\n",
              "  .colab-df-quickchart {\n",
              "      --bg-color: #E8F0FE;\n",
              "      --fill-color: #1967D2;\n",
              "      --hover-bg-color: #E2EBFA;\n",
              "      --hover-fill-color: #174EA6;\n",
              "      --disabled-fill-color: #AAA;\n",
              "      --disabled-bg-color: #DDD;\n",
              "  }\n",
              "\n",
              "  [theme=dark] .colab-df-quickchart {\n",
              "      --bg-color: #3B4455;\n",
              "      --fill-color: #D2E3FC;\n",
              "      --hover-bg-color: #434B5C;\n",
              "      --hover-fill-color: #FFFFFF;\n",
              "      --disabled-bg-color: #3B4455;\n",
              "      --disabled-fill-color: #666;\n",
              "  }\n",
              "\n",
              "  .colab-df-quickchart {\n",
              "    background-color: var(--bg-color);\n",
              "    border: none;\n",
              "    border-radius: 50%;\n",
              "    cursor: pointer;\n",
              "    display: none;\n",
              "    fill: var(--fill-color);\n",
              "    height: 32px;\n",
              "    padding: 0;\n",
              "    width: 32px;\n",
              "  }\n",
              "\n",
              "  .colab-df-quickchart:hover {\n",
              "    background-color: var(--hover-bg-color);\n",
              "    box-shadow: 0 1px 2px rgba(60, 64, 67, 0.3), 0 1px 3px 1px rgba(60, 64, 67, 0.15);\n",
              "    fill: var(--button-hover-fill-color);\n",
              "  }\n",
              "\n",
              "  .colab-df-quickchart-complete:disabled,\n",
              "  .colab-df-quickchart-complete:disabled:hover {\n",
              "    background-color: var(--disabled-bg-color);\n",
              "    fill: var(--disabled-fill-color);\n",
              "    box-shadow: none;\n",
              "  }\n",
              "\n",
              "  .colab-df-spinner {\n",
              "    border: 2px solid var(--fill-color);\n",
              "    border-color: transparent;\n",
              "    border-bottom-color: var(--fill-color);\n",
              "    animation:\n",
              "      spin 1s steps(1) infinite;\n",
              "  }\n",
              "\n",
              "  @keyframes spin {\n",
              "    0% {\n",
              "      border-color: transparent;\n",
              "      border-bottom-color: var(--fill-color);\n",
              "      border-left-color: var(--fill-color);\n",
              "    }\n",
              "    20% {\n",
              "      border-color: transparent;\n",
              "      border-left-color: var(--fill-color);\n",
              "      border-top-color: var(--fill-color);\n",
              "    }\n",
              "    30% {\n",
              "      border-color: transparent;\n",
              "      border-left-color: var(--fill-color);\n",
              "      border-top-color: var(--fill-color);\n",
              "      border-right-color: var(--fill-color);\n",
              "    }\n",
              "    40% {\n",
              "      border-color: transparent;\n",
              "      border-right-color: var(--fill-color);\n",
              "      border-top-color: var(--fill-color);\n",
              "    }\n",
              "    60% {\n",
              "      border-color: transparent;\n",
              "      border-right-color: var(--fill-color);\n",
              "    }\n",
              "    80% {\n",
              "      border-color: transparent;\n",
              "      border-right-color: var(--fill-color);\n",
              "      border-bottom-color: var(--fill-color);\n",
              "    }\n",
              "    90% {\n",
              "      border-color: transparent;\n",
              "      border-bottom-color: var(--fill-color);\n",
              "    }\n",
              "  }\n",
              "</style>\n",
              "\n",
              "  <script>\n",
              "    async function quickchart(key) {\n",
              "      const quickchartButtonEl =\n",
              "        document.querySelector('#' + key + ' button');\n",
              "      quickchartButtonEl.disabled = true;  // To prevent multiple clicks.\n",
              "      quickchartButtonEl.classList.add('colab-df-spinner');\n",
              "      try {\n",
              "        const charts = await google.colab.kernel.invokeFunction(\n",
              "            'suggestCharts', [key], {});\n",
              "      } catch (error) {\n",
              "        console.error('Error during call to suggestCharts:', error);\n",
              "      }\n",
              "      quickchartButtonEl.classList.remove('colab-df-spinner');\n",
              "      quickchartButtonEl.classList.add('colab-df-quickchart-complete');\n",
              "    }\n",
              "    (() => {\n",
              "      let quickchartButtonEl =\n",
              "        document.querySelector('#df-69b0016f-f73a-4f3d-a306-337878916f88 button');\n",
              "      quickchartButtonEl.style.display =\n",
              "        google.colab.kernel.accessAllowed ? 'block' : 'none';\n",
              "    })();\n",
              "  </script>\n",
              "</div>\n",
              "\n",
              "    </div>\n",
              "  </div>\n"
            ],
            "application/vnd.google.colaboratory.intrinsic+json": {
              "type": "dataframe",
              "variable_name": "data_station"
            }
          },
          "metadata": {},
          "execution_count": 3
        }
      ]
    },
    {
      "cell_type": "code",
      "source": [
        "data_weather.head()"
      ],
      "metadata": {
        "colab": {
          "base_uri": "https://localhost:8080/",
          "height": 293
        },
        "id": "AKDvXsXZc9oD",
        "outputId": "d0532716-d431-43e9-e0ed-9b7c51e6839b"
      },
      "execution_count": 4,
      "outputs": [
        {
          "output_type": "execute_result",
          "data": {
            "text/plain": [
              "               time  precipitation  snowfall  temperature_2m  \\\n",
              "0  2015-09-01T00:00            0.0       0.0            54.4   \n",
              "1  2015-09-01T01:00            0.0       0.0            53.0   \n",
              "2  2015-09-01T02:00            0.0       0.0            51.9   \n",
              "3  2015-09-01T03:00            0.0       0.0            50.8   \n",
              "4  2015-09-01T04:00            0.0       0.0            50.0   \n",
              "\n",
              "   relativehumidity_2m  surface_pressure  windspeed_10m  winddirection_10m  \\\n",
              "0                   58             879.6            6.3                207   \n",
              "1                   62             879.0            5.5                194   \n",
              "2                   65             878.5            5.4                185   \n",
              "3                   68             877.6            4.9                185   \n",
              "4                   70             877.2            5.1                178   \n",
              "\n",
              "   windgusts_10m  cloudcover  elevation   latitude  longitude timezone  \\\n",
              "0           14.1          35     1099.0  50.931458 -114.10715      MST   \n",
              "1           11.2          10     1099.0  50.931458 -114.10715      MST   \n",
              "2            9.6           2     1099.0  50.931458 -114.10715      MST   \n",
              "3            9.6           0     1099.0  50.931458 -114.10715      MST   \n",
              "4           10.7           0     1099.0  50.931458 -114.10715      MST   \n",
              "\n",
              "            sunrise            sunset        id  \n",
              "0  2015-09-01T05:50  2015-09-01T19:22  164440.0  \n",
              "1  2015-09-01T05:50  2015-09-01T19:22  164440.0  \n",
              "2  2015-09-01T05:50  2015-09-01T19:22  164440.0  \n",
              "3  2015-09-01T05:50  2015-09-01T19:22  164440.0  \n",
              "4  2015-09-01T05:50  2015-09-01T19:22  164440.0  "
            ],
            "text/html": [
              "\n",
              "  <div id=\"df-ecb90037-ebf4-4954-9774-4db12ec97a44\" class=\"colab-df-container\">\n",
              "    <div>\n",
              "<style scoped>\n",
              "    .dataframe tbody tr th:only-of-type {\n",
              "        vertical-align: middle;\n",
              "    }\n",
              "\n",
              "    .dataframe tbody tr th {\n",
              "        vertical-align: top;\n",
              "    }\n",
              "\n",
              "    .dataframe thead th {\n",
              "        text-align: right;\n",
              "    }\n",
              "</style>\n",
              "<table border=\"1\" class=\"dataframe\">\n",
              "  <thead>\n",
              "    <tr style=\"text-align: right;\">\n",
              "      <th></th>\n",
              "      <th>time</th>\n",
              "      <th>precipitation</th>\n",
              "      <th>snowfall</th>\n",
              "      <th>temperature_2m</th>\n",
              "      <th>relativehumidity_2m</th>\n",
              "      <th>surface_pressure</th>\n",
              "      <th>windspeed_10m</th>\n",
              "      <th>winddirection_10m</th>\n",
              "      <th>windgusts_10m</th>\n",
              "      <th>cloudcover</th>\n",
              "      <th>elevation</th>\n",
              "      <th>latitude</th>\n",
              "      <th>longitude</th>\n",
              "      <th>timezone</th>\n",
              "      <th>sunrise</th>\n",
              "      <th>sunset</th>\n",
              "      <th>id</th>\n",
              "    </tr>\n",
              "  </thead>\n",
              "  <tbody>\n",
              "    <tr>\n",
              "      <th>0</th>\n",
              "      <td>2015-09-01T00:00</td>\n",
              "      <td>0.0</td>\n",
              "      <td>0.0</td>\n",
              "      <td>54.4</td>\n",
              "      <td>58</td>\n",
              "      <td>879.6</td>\n",
              "      <td>6.3</td>\n",
              "      <td>207</td>\n",
              "      <td>14.1</td>\n",
              "      <td>35</td>\n",
              "      <td>1099.0</td>\n",
              "      <td>50.931458</td>\n",
              "      <td>-114.10715</td>\n",
              "      <td>MST</td>\n",
              "      <td>2015-09-01T05:50</td>\n",
              "      <td>2015-09-01T19:22</td>\n",
              "      <td>164440.0</td>\n",
              "    </tr>\n",
              "    <tr>\n",
              "      <th>1</th>\n",
              "      <td>2015-09-01T01:00</td>\n",
              "      <td>0.0</td>\n",
              "      <td>0.0</td>\n",
              "      <td>53.0</td>\n",
              "      <td>62</td>\n",
              "      <td>879.0</td>\n",
              "      <td>5.5</td>\n",
              "      <td>194</td>\n",
              "      <td>11.2</td>\n",
              "      <td>10</td>\n",
              "      <td>1099.0</td>\n",
              "      <td>50.931458</td>\n",
              "      <td>-114.10715</td>\n",
              "      <td>MST</td>\n",
              "      <td>2015-09-01T05:50</td>\n",
              "      <td>2015-09-01T19:22</td>\n",
              "      <td>164440.0</td>\n",
              "    </tr>\n",
              "    <tr>\n",
              "      <th>2</th>\n",
              "      <td>2015-09-01T02:00</td>\n",
              "      <td>0.0</td>\n",
              "      <td>0.0</td>\n",
              "      <td>51.9</td>\n",
              "      <td>65</td>\n",
              "      <td>878.5</td>\n",
              "      <td>5.4</td>\n",
              "      <td>185</td>\n",
              "      <td>9.6</td>\n",
              "      <td>2</td>\n",
              "      <td>1099.0</td>\n",
              "      <td>50.931458</td>\n",
              "      <td>-114.10715</td>\n",
              "      <td>MST</td>\n",
              "      <td>2015-09-01T05:50</td>\n",
              "      <td>2015-09-01T19:22</td>\n",
              "      <td>164440.0</td>\n",
              "    </tr>\n",
              "    <tr>\n",
              "      <th>3</th>\n",
              "      <td>2015-09-01T03:00</td>\n",
              "      <td>0.0</td>\n",
              "      <td>0.0</td>\n",
              "      <td>50.8</td>\n",
              "      <td>68</td>\n",
              "      <td>877.6</td>\n",
              "      <td>4.9</td>\n",
              "      <td>185</td>\n",
              "      <td>9.6</td>\n",
              "      <td>0</td>\n",
              "      <td>1099.0</td>\n",
              "      <td>50.931458</td>\n",
              "      <td>-114.10715</td>\n",
              "      <td>MST</td>\n",
              "      <td>2015-09-01T05:50</td>\n",
              "      <td>2015-09-01T19:22</td>\n",
              "      <td>164440.0</td>\n",
              "    </tr>\n",
              "    <tr>\n",
              "      <th>4</th>\n",
              "      <td>2015-09-01T04:00</td>\n",
              "      <td>0.0</td>\n",
              "      <td>0.0</td>\n",
              "      <td>50.0</td>\n",
              "      <td>70</td>\n",
              "      <td>877.2</td>\n",
              "      <td>5.1</td>\n",
              "      <td>178</td>\n",
              "      <td>10.7</td>\n",
              "      <td>0</td>\n",
              "      <td>1099.0</td>\n",
              "      <td>50.931458</td>\n",
              "      <td>-114.10715</td>\n",
              "      <td>MST</td>\n",
              "      <td>2015-09-01T05:50</td>\n",
              "      <td>2015-09-01T19:22</td>\n",
              "      <td>164440.0</td>\n",
              "    </tr>\n",
              "  </tbody>\n",
              "</table>\n",
              "</div>\n",
              "    <div class=\"colab-df-buttons\">\n",
              "\n",
              "  <div class=\"colab-df-container\">\n",
              "    <button class=\"colab-df-convert\" onclick=\"convertToInteractive('df-ecb90037-ebf4-4954-9774-4db12ec97a44')\"\n",
              "            title=\"Convert this dataframe to an interactive table.\"\n",
              "            style=\"display:none;\">\n",
              "\n",
              "  <svg xmlns=\"http://www.w3.org/2000/svg\" height=\"24px\" viewBox=\"0 -960 960 960\">\n",
              "    <path d=\"M120-120v-720h720v720H120Zm60-500h600v-160H180v160Zm220 220h160v-160H400v160Zm0 220h160v-160H400v160ZM180-400h160v-160H180v160Zm440 0h160v-160H620v160ZM180-180h160v-160H180v160Zm440 0h160v-160H620v160Z\"/>\n",
              "  </svg>\n",
              "    </button>\n",
              "\n",
              "  <style>\n",
              "    .colab-df-container {\n",
              "      display:flex;\n",
              "      gap: 12px;\n",
              "    }\n",
              "\n",
              "    .colab-df-convert {\n",
              "      background-color: #E8F0FE;\n",
              "      border: none;\n",
              "      border-radius: 50%;\n",
              "      cursor: pointer;\n",
              "      display: none;\n",
              "      fill: #1967D2;\n",
              "      height: 32px;\n",
              "      padding: 0 0 0 0;\n",
              "      width: 32px;\n",
              "    }\n",
              "\n",
              "    .colab-df-convert:hover {\n",
              "      background-color: #E2EBFA;\n",
              "      box-shadow: 0px 1px 2px rgba(60, 64, 67, 0.3), 0px 1px 3px 1px rgba(60, 64, 67, 0.15);\n",
              "      fill: #174EA6;\n",
              "    }\n",
              "\n",
              "    .colab-df-buttons div {\n",
              "      margin-bottom: 4px;\n",
              "    }\n",
              "\n",
              "    [theme=dark] .colab-df-convert {\n",
              "      background-color: #3B4455;\n",
              "      fill: #D2E3FC;\n",
              "    }\n",
              "\n",
              "    [theme=dark] .colab-df-convert:hover {\n",
              "      background-color: #434B5C;\n",
              "      box-shadow: 0px 1px 3px 1px rgba(0, 0, 0, 0.15);\n",
              "      filter: drop-shadow(0px 1px 2px rgba(0, 0, 0, 0.3));\n",
              "      fill: #FFFFFF;\n",
              "    }\n",
              "  </style>\n",
              "\n",
              "    <script>\n",
              "      const buttonEl =\n",
              "        document.querySelector('#df-ecb90037-ebf4-4954-9774-4db12ec97a44 button.colab-df-convert');\n",
              "      buttonEl.style.display =\n",
              "        google.colab.kernel.accessAllowed ? 'block' : 'none';\n",
              "\n",
              "      async function convertToInteractive(key) {\n",
              "        const element = document.querySelector('#df-ecb90037-ebf4-4954-9774-4db12ec97a44');\n",
              "        const dataTable =\n",
              "          await google.colab.kernel.invokeFunction('convertToInteractive',\n",
              "                                                    [key], {});\n",
              "        if (!dataTable) return;\n",
              "\n",
              "        const docLinkHtml = 'Like what you see? Visit the ' +\n",
              "          '<a target=\"_blank\" href=https://colab.research.google.com/notebooks/data_table.ipynb>data table notebook</a>'\n",
              "          + ' to learn more about interactive tables.';\n",
              "        element.innerHTML = '';\n",
              "        dataTable['output_type'] = 'display_data';\n",
              "        await google.colab.output.renderOutput(dataTable, element);\n",
              "        const docLink = document.createElement('div');\n",
              "        docLink.innerHTML = docLinkHtml;\n",
              "        element.appendChild(docLink);\n",
              "      }\n",
              "    </script>\n",
              "  </div>\n",
              "\n",
              "\n",
              "<div id=\"df-b85bd9a1-e3b2-4d2e-8824-30f5810b5edb\">\n",
              "  <button class=\"colab-df-quickchart\" onclick=\"quickchart('df-b85bd9a1-e3b2-4d2e-8824-30f5810b5edb')\"\n",
              "            title=\"Suggest charts\"\n",
              "            style=\"display:none;\">\n",
              "\n",
              "<svg xmlns=\"http://www.w3.org/2000/svg\" height=\"24px\"viewBox=\"0 0 24 24\"\n",
              "     width=\"24px\">\n",
              "    <g>\n",
              "        <path d=\"M19 3H5c-1.1 0-2 .9-2 2v14c0 1.1.9 2 2 2h14c1.1 0 2-.9 2-2V5c0-1.1-.9-2-2-2zM9 17H7v-7h2v7zm4 0h-2V7h2v10zm4 0h-2v-4h2v4z\"/>\n",
              "    </g>\n",
              "</svg>\n",
              "  </button>\n",
              "\n",
              "<style>\n",
              "  .colab-df-quickchart {\n",
              "      --bg-color: #E8F0FE;\n",
              "      --fill-color: #1967D2;\n",
              "      --hover-bg-color: #E2EBFA;\n",
              "      --hover-fill-color: #174EA6;\n",
              "      --disabled-fill-color: #AAA;\n",
              "      --disabled-bg-color: #DDD;\n",
              "  }\n",
              "\n",
              "  [theme=dark] .colab-df-quickchart {\n",
              "      --bg-color: #3B4455;\n",
              "      --fill-color: #D2E3FC;\n",
              "      --hover-bg-color: #434B5C;\n",
              "      --hover-fill-color: #FFFFFF;\n",
              "      --disabled-bg-color: #3B4455;\n",
              "      --disabled-fill-color: #666;\n",
              "  }\n",
              "\n",
              "  .colab-df-quickchart {\n",
              "    background-color: var(--bg-color);\n",
              "    border: none;\n",
              "    border-radius: 50%;\n",
              "    cursor: pointer;\n",
              "    display: none;\n",
              "    fill: var(--fill-color);\n",
              "    height: 32px;\n",
              "    padding: 0;\n",
              "    width: 32px;\n",
              "  }\n",
              "\n",
              "  .colab-df-quickchart:hover {\n",
              "    background-color: var(--hover-bg-color);\n",
              "    box-shadow: 0 1px 2px rgba(60, 64, 67, 0.3), 0 1px 3px 1px rgba(60, 64, 67, 0.15);\n",
              "    fill: var(--button-hover-fill-color);\n",
              "  }\n",
              "\n",
              "  .colab-df-quickchart-complete:disabled,\n",
              "  .colab-df-quickchart-complete:disabled:hover {\n",
              "    background-color: var(--disabled-bg-color);\n",
              "    fill: var(--disabled-fill-color);\n",
              "    box-shadow: none;\n",
              "  }\n",
              "\n",
              "  .colab-df-spinner {\n",
              "    border: 2px solid var(--fill-color);\n",
              "    border-color: transparent;\n",
              "    border-bottom-color: var(--fill-color);\n",
              "    animation:\n",
              "      spin 1s steps(1) infinite;\n",
              "  }\n",
              "\n",
              "  @keyframes spin {\n",
              "    0% {\n",
              "      border-color: transparent;\n",
              "      border-bottom-color: var(--fill-color);\n",
              "      border-left-color: var(--fill-color);\n",
              "    }\n",
              "    20% {\n",
              "      border-color: transparent;\n",
              "      border-left-color: var(--fill-color);\n",
              "      border-top-color: var(--fill-color);\n",
              "    }\n",
              "    30% {\n",
              "      border-color: transparent;\n",
              "      border-left-color: var(--fill-color);\n",
              "      border-top-color: var(--fill-color);\n",
              "      border-right-color: var(--fill-color);\n",
              "    }\n",
              "    40% {\n",
              "      border-color: transparent;\n",
              "      border-right-color: var(--fill-color);\n",
              "      border-top-color: var(--fill-color);\n",
              "    }\n",
              "    60% {\n",
              "      border-color: transparent;\n",
              "      border-right-color: var(--fill-color);\n",
              "    }\n",
              "    80% {\n",
              "      border-color: transparent;\n",
              "      border-right-color: var(--fill-color);\n",
              "      border-bottom-color: var(--fill-color);\n",
              "    }\n",
              "    90% {\n",
              "      border-color: transparent;\n",
              "      border-bottom-color: var(--fill-color);\n",
              "    }\n",
              "  }\n",
              "</style>\n",
              "\n",
              "  <script>\n",
              "    async function quickchart(key) {\n",
              "      const quickchartButtonEl =\n",
              "        document.querySelector('#' + key + ' button');\n",
              "      quickchartButtonEl.disabled = true;  // To prevent multiple clicks.\n",
              "      quickchartButtonEl.classList.add('colab-df-spinner');\n",
              "      try {\n",
              "        const charts = await google.colab.kernel.invokeFunction(\n",
              "            'suggestCharts', [key], {});\n",
              "      } catch (error) {\n",
              "        console.error('Error during call to suggestCharts:', error);\n",
              "      }\n",
              "      quickchartButtonEl.classList.remove('colab-df-spinner');\n",
              "      quickchartButtonEl.classList.add('colab-df-quickchart-complete');\n",
              "    }\n",
              "    (() => {\n",
              "      let quickchartButtonEl =\n",
              "        document.querySelector('#df-b85bd9a1-e3b2-4d2e-8824-30f5810b5edb button');\n",
              "      quickchartButtonEl.style.display =\n",
              "        google.colab.kernel.accessAllowed ? 'block' : 'none';\n",
              "    })();\n",
              "  </script>\n",
              "</div>\n",
              "\n",
              "    </div>\n",
              "  </div>\n"
            ],
            "application/vnd.google.colaboratory.intrinsic+json": {
              "type": "dataframe",
              "variable_name": "data_weather"
            }
          },
          "metadata": {},
          "execution_count": 4
        }
      ]
    },
    {
      "cell_type": "code",
      "source": [
        "data_station.shape"
      ],
      "metadata": {
        "colab": {
          "base_uri": "https://localhost:8080/"
        },
        "id": "HZDnGOPNeQlp",
        "outputId": "b33e943f-4d6d-4c45-85c5-1d8bb3009d4a"
      },
      "execution_count": 5,
      "outputs": [
        {
          "output_type": "execute_result",
          "data": {
            "text/plain": [
              "(331383, 7)"
            ]
          },
          "metadata": {},
          "execution_count": 5
        }
      ]
    },
    {
      "cell_type": "code",
      "source": [
        "data_weather.shape"
      ],
      "metadata": {
        "colab": {
          "base_uri": "https://localhost:8080/"
        },
        "id": "q-CDq0ECeVlm",
        "outputId": "ca335dc8-d348-4cce-aa8e-834c969ac39a"
      },
      "execution_count": 6,
      "outputs": [
        {
          "output_type": "execute_result",
          "data": {
            "text/plain": [
              "(221376, 17)"
            ]
          },
          "metadata": {},
          "execution_count": 6
        }
      ]
    },
    {
      "cell_type": "code",
      "source": [
        "data_station.columns"
      ],
      "metadata": {
        "colab": {
          "base_uri": "https://localhost:8080/"
        },
        "id": "dV61SGTDj7QT",
        "outputId": "b512a23c-6733-4fb5-f6dd-aeb4a69b0a74"
      },
      "execution_count": 8,
      "outputs": [
        {
          "output_type": "execute_result",
          "data": {
            "text/plain": [
              "Index(['id', 'name', 'address', 'latitude', 'longitude', 'date', 'kWh'], dtype='object')"
            ]
          },
          "metadata": {},
          "execution_count": 8
        }
      ]
    },
    {
      "cell_type": "code",
      "source": [
        "data_weather.columns"
      ],
      "metadata": {
        "colab": {
          "base_uri": "https://localhost:8080/"
        },
        "id": "oB4XbG0eoO9d",
        "outputId": "f07fd4b0-b6fa-4179-a470-b989b9eb74ba"
      },
      "execution_count": 9,
      "outputs": [
        {
          "output_type": "execute_result",
          "data": {
            "text/plain": [
              "Index(['time', 'precipitation', 'snowfall', 'temperature_2m',\n",
              "       'relativehumidity_2m', 'surface_pressure', 'windspeed_10m',\n",
              "       'winddirection_10m', 'windgusts_10m', 'cloudcover', 'elevation',\n",
              "       'latitude', 'longitude', 'timezone', 'sunrise', 'sunset', 'id'],\n",
              "      dtype='object')"
            ]
          },
          "metadata": {},
          "execution_count": 9
        }
      ]
    },
    {
      "cell_type": "code",
      "source": [],
      "metadata": {
        "id": "O-b0tfPmpaNP"
      },
      "execution_count": null,
      "outputs": []
    },
    {
      "cell_type": "code",
      "source": [
        "id_to_kwh = data_station.set_index('id')['kWh'].to_dict()\n",
        "\n",
        "data_weather['kWh'] = data_weather['id'].map(id_to_kwh)\n",
        "\n",
        "# Vérifier le DataFrame final\n",
        "print(data_weather.head())"
      ],
      "metadata": {
        "colab": {
          "base_uri": "https://localhost:8080/"
        },
        "id": "pRjeYTnCoyVt",
        "outputId": "cbfc4f9d-9743-4d54-9bee-f687d87fd889"
      },
      "execution_count": 15,
      "outputs": [
        {
          "output_type": "stream",
          "name": "stdout",
          "text": [
            "               time  precipitation  snowfall  temperature_2m  \\\n",
            "0  2015-09-01T00:00            0.0       0.0            54.4   \n",
            "1  2015-09-01T01:00            0.0       0.0            53.0   \n",
            "2  2015-09-01T02:00            0.0       0.0            51.9   \n",
            "3  2015-09-01T03:00            0.0       0.0            50.8   \n",
            "4  2015-09-01T04:00            0.0       0.0            50.0   \n",
            "\n",
            "   relativehumidity_2m  surface_pressure  windspeed_10m  winddirection_10m  \\\n",
            "0                   58             879.6            6.3                207   \n",
            "1                   62             879.0            5.5                194   \n",
            "2                   65             878.5            5.4                185   \n",
            "3                   68             877.6            4.9                185   \n",
            "4                   70             877.2            5.1                178   \n",
            "\n",
            "   windgusts_10m  cloudcover  elevation   latitude  longitude timezone  \\\n",
            "0           14.1          35     1099.0  50.931458 -114.10715      MST   \n",
            "1           11.2          10     1099.0  50.931458 -114.10715      MST   \n",
            "2            9.6           2     1099.0  50.931458 -114.10715      MST   \n",
            "3            9.6           0     1099.0  50.931458 -114.10715      MST   \n",
            "4           10.7           0     1099.0  50.931458 -114.10715      MST   \n",
            "\n",
            "            sunrise            sunset        id    kWh  \n",
            "0  2015-09-01T05:50  2015-09-01T19:22  164440.0  4.293  \n",
            "1  2015-09-01T05:50  2015-09-01T19:22  164440.0  4.293  \n",
            "2  2015-09-01T05:50  2015-09-01T19:22  164440.0  4.293  \n",
            "3  2015-09-01T05:50  2015-09-01T19:22  164440.0  4.293  \n",
            "4  2015-09-01T05:50  2015-09-01T19:22  164440.0  4.293  \n"
          ]
        }
      ]
    },
    {
      "cell_type": "code",
      "source": [
        "data=data_weather"
      ],
      "metadata": {
        "id": "b0GlpVDnpE7h"
      },
      "execution_count": 58,
      "outputs": []
    },
    {
      "cell_type": "code",
      "source": [
        "data.shape"
      ],
      "metadata": {
        "colab": {
          "base_uri": "https://localhost:8080/"
        },
        "id": "t-sg1VcNo0og",
        "outputId": "819f4b45-6a18-4c22-9bdd-90cb004ab6fe"
      },
      "execution_count": 17,
      "outputs": [
        {
          "output_type": "execute_result",
          "data": {
            "text/plain": [
              "(221376, 18)"
            ]
          },
          "metadata": {},
          "execution_count": 17
        }
      ]
    },
    {
      "cell_type": "code",
      "source": [
        "data.head()"
      ],
      "metadata": {
        "colab": {
          "base_uri": "https://localhost:8080/",
          "height": 293
        },
        "id": "nMUgdPKypBMA",
        "outputId": "67440b5b-ff9c-40f3-ba7a-69a56511f4fe"
      },
      "execution_count": 18,
      "outputs": [
        {
          "output_type": "execute_result",
          "data": {
            "text/plain": [
              "               time  precipitation  snowfall  temperature_2m  \\\n",
              "0  2015-09-01T00:00            0.0       0.0            54.4   \n",
              "1  2015-09-01T01:00            0.0       0.0            53.0   \n",
              "2  2015-09-01T02:00            0.0       0.0            51.9   \n",
              "3  2015-09-01T03:00            0.0       0.0            50.8   \n",
              "4  2015-09-01T04:00            0.0       0.0            50.0   \n",
              "\n",
              "   relativehumidity_2m  surface_pressure  windspeed_10m  winddirection_10m  \\\n",
              "0                   58             879.6            6.3                207   \n",
              "1                   62             879.0            5.5                194   \n",
              "2                   65             878.5            5.4                185   \n",
              "3                   68             877.6            4.9                185   \n",
              "4                   70             877.2            5.1                178   \n",
              "\n",
              "   windgusts_10m  cloudcover  elevation   latitude  longitude timezone  \\\n",
              "0           14.1          35     1099.0  50.931458 -114.10715      MST   \n",
              "1           11.2          10     1099.0  50.931458 -114.10715      MST   \n",
              "2            9.6           2     1099.0  50.931458 -114.10715      MST   \n",
              "3            9.6           0     1099.0  50.931458 -114.10715      MST   \n",
              "4           10.7           0     1099.0  50.931458 -114.10715      MST   \n",
              "\n",
              "            sunrise            sunset        id    kWh  \n",
              "0  2015-09-01T05:50  2015-09-01T19:22  164440.0  4.293  \n",
              "1  2015-09-01T05:50  2015-09-01T19:22  164440.0  4.293  \n",
              "2  2015-09-01T05:50  2015-09-01T19:22  164440.0  4.293  \n",
              "3  2015-09-01T05:50  2015-09-01T19:22  164440.0  4.293  \n",
              "4  2015-09-01T05:50  2015-09-01T19:22  164440.0  4.293  "
            ],
            "text/html": [
              "\n",
              "  <div id=\"df-7af29646-a512-4999-9e79-5e3ceb711f8e\" class=\"colab-df-container\">\n",
              "    <div>\n",
              "<style scoped>\n",
              "    .dataframe tbody tr th:only-of-type {\n",
              "        vertical-align: middle;\n",
              "    }\n",
              "\n",
              "    .dataframe tbody tr th {\n",
              "        vertical-align: top;\n",
              "    }\n",
              "\n",
              "    .dataframe thead th {\n",
              "        text-align: right;\n",
              "    }\n",
              "</style>\n",
              "<table border=\"1\" class=\"dataframe\">\n",
              "  <thead>\n",
              "    <tr style=\"text-align: right;\">\n",
              "      <th></th>\n",
              "      <th>time</th>\n",
              "      <th>precipitation</th>\n",
              "      <th>snowfall</th>\n",
              "      <th>temperature_2m</th>\n",
              "      <th>relativehumidity_2m</th>\n",
              "      <th>surface_pressure</th>\n",
              "      <th>windspeed_10m</th>\n",
              "      <th>winddirection_10m</th>\n",
              "      <th>windgusts_10m</th>\n",
              "      <th>cloudcover</th>\n",
              "      <th>elevation</th>\n",
              "      <th>latitude</th>\n",
              "      <th>longitude</th>\n",
              "      <th>timezone</th>\n",
              "      <th>sunrise</th>\n",
              "      <th>sunset</th>\n",
              "      <th>id</th>\n",
              "      <th>kWh</th>\n",
              "    </tr>\n",
              "  </thead>\n",
              "  <tbody>\n",
              "    <tr>\n",
              "      <th>0</th>\n",
              "      <td>2015-09-01T00:00</td>\n",
              "      <td>0.0</td>\n",
              "      <td>0.0</td>\n",
              "      <td>54.4</td>\n",
              "      <td>58</td>\n",
              "      <td>879.6</td>\n",
              "      <td>6.3</td>\n",
              "      <td>207</td>\n",
              "      <td>14.1</td>\n",
              "      <td>35</td>\n",
              "      <td>1099.0</td>\n",
              "      <td>50.931458</td>\n",
              "      <td>-114.10715</td>\n",
              "      <td>MST</td>\n",
              "      <td>2015-09-01T05:50</td>\n",
              "      <td>2015-09-01T19:22</td>\n",
              "      <td>164440.0</td>\n",
              "      <td>4.293</td>\n",
              "    </tr>\n",
              "    <tr>\n",
              "      <th>1</th>\n",
              "      <td>2015-09-01T01:00</td>\n",
              "      <td>0.0</td>\n",
              "      <td>0.0</td>\n",
              "      <td>53.0</td>\n",
              "      <td>62</td>\n",
              "      <td>879.0</td>\n",
              "      <td>5.5</td>\n",
              "      <td>194</td>\n",
              "      <td>11.2</td>\n",
              "      <td>10</td>\n",
              "      <td>1099.0</td>\n",
              "      <td>50.931458</td>\n",
              "      <td>-114.10715</td>\n",
              "      <td>MST</td>\n",
              "      <td>2015-09-01T05:50</td>\n",
              "      <td>2015-09-01T19:22</td>\n",
              "      <td>164440.0</td>\n",
              "      <td>4.293</td>\n",
              "    </tr>\n",
              "    <tr>\n",
              "      <th>2</th>\n",
              "      <td>2015-09-01T02:00</td>\n",
              "      <td>0.0</td>\n",
              "      <td>0.0</td>\n",
              "      <td>51.9</td>\n",
              "      <td>65</td>\n",
              "      <td>878.5</td>\n",
              "      <td>5.4</td>\n",
              "      <td>185</td>\n",
              "      <td>9.6</td>\n",
              "      <td>2</td>\n",
              "      <td>1099.0</td>\n",
              "      <td>50.931458</td>\n",
              "      <td>-114.10715</td>\n",
              "      <td>MST</td>\n",
              "      <td>2015-09-01T05:50</td>\n",
              "      <td>2015-09-01T19:22</td>\n",
              "      <td>164440.0</td>\n",
              "      <td>4.293</td>\n",
              "    </tr>\n",
              "    <tr>\n",
              "      <th>3</th>\n",
              "      <td>2015-09-01T03:00</td>\n",
              "      <td>0.0</td>\n",
              "      <td>0.0</td>\n",
              "      <td>50.8</td>\n",
              "      <td>68</td>\n",
              "      <td>877.6</td>\n",
              "      <td>4.9</td>\n",
              "      <td>185</td>\n",
              "      <td>9.6</td>\n",
              "      <td>0</td>\n",
              "      <td>1099.0</td>\n",
              "      <td>50.931458</td>\n",
              "      <td>-114.10715</td>\n",
              "      <td>MST</td>\n",
              "      <td>2015-09-01T05:50</td>\n",
              "      <td>2015-09-01T19:22</td>\n",
              "      <td>164440.0</td>\n",
              "      <td>4.293</td>\n",
              "    </tr>\n",
              "    <tr>\n",
              "      <th>4</th>\n",
              "      <td>2015-09-01T04:00</td>\n",
              "      <td>0.0</td>\n",
              "      <td>0.0</td>\n",
              "      <td>50.0</td>\n",
              "      <td>70</td>\n",
              "      <td>877.2</td>\n",
              "      <td>5.1</td>\n",
              "      <td>178</td>\n",
              "      <td>10.7</td>\n",
              "      <td>0</td>\n",
              "      <td>1099.0</td>\n",
              "      <td>50.931458</td>\n",
              "      <td>-114.10715</td>\n",
              "      <td>MST</td>\n",
              "      <td>2015-09-01T05:50</td>\n",
              "      <td>2015-09-01T19:22</td>\n",
              "      <td>164440.0</td>\n",
              "      <td>4.293</td>\n",
              "    </tr>\n",
              "  </tbody>\n",
              "</table>\n",
              "</div>\n",
              "    <div class=\"colab-df-buttons\">\n",
              "\n",
              "  <div class=\"colab-df-container\">\n",
              "    <button class=\"colab-df-convert\" onclick=\"convertToInteractive('df-7af29646-a512-4999-9e79-5e3ceb711f8e')\"\n",
              "            title=\"Convert this dataframe to an interactive table.\"\n",
              "            style=\"display:none;\">\n",
              "\n",
              "  <svg xmlns=\"http://www.w3.org/2000/svg\" height=\"24px\" viewBox=\"0 -960 960 960\">\n",
              "    <path d=\"M120-120v-720h720v720H120Zm60-500h600v-160H180v160Zm220 220h160v-160H400v160Zm0 220h160v-160H400v160ZM180-400h160v-160H180v160Zm440 0h160v-160H620v160ZM180-180h160v-160H180v160Zm440 0h160v-160H620v160Z\"/>\n",
              "  </svg>\n",
              "    </button>\n",
              "\n",
              "  <style>\n",
              "    .colab-df-container {\n",
              "      display:flex;\n",
              "      gap: 12px;\n",
              "    }\n",
              "\n",
              "    .colab-df-convert {\n",
              "      background-color: #E8F0FE;\n",
              "      border: none;\n",
              "      border-radius: 50%;\n",
              "      cursor: pointer;\n",
              "      display: none;\n",
              "      fill: #1967D2;\n",
              "      height: 32px;\n",
              "      padding: 0 0 0 0;\n",
              "      width: 32px;\n",
              "    }\n",
              "\n",
              "    .colab-df-convert:hover {\n",
              "      background-color: #E2EBFA;\n",
              "      box-shadow: 0px 1px 2px rgba(60, 64, 67, 0.3), 0px 1px 3px 1px rgba(60, 64, 67, 0.15);\n",
              "      fill: #174EA6;\n",
              "    }\n",
              "\n",
              "    .colab-df-buttons div {\n",
              "      margin-bottom: 4px;\n",
              "    }\n",
              "\n",
              "    [theme=dark] .colab-df-convert {\n",
              "      background-color: #3B4455;\n",
              "      fill: #D2E3FC;\n",
              "    }\n",
              "\n",
              "    [theme=dark] .colab-df-convert:hover {\n",
              "      background-color: #434B5C;\n",
              "      box-shadow: 0px 1px 3px 1px rgba(0, 0, 0, 0.15);\n",
              "      filter: drop-shadow(0px 1px 2px rgba(0, 0, 0, 0.3));\n",
              "      fill: #FFFFFF;\n",
              "    }\n",
              "  </style>\n",
              "\n",
              "    <script>\n",
              "      const buttonEl =\n",
              "        document.querySelector('#df-7af29646-a512-4999-9e79-5e3ceb711f8e button.colab-df-convert');\n",
              "      buttonEl.style.display =\n",
              "        google.colab.kernel.accessAllowed ? 'block' : 'none';\n",
              "\n",
              "      async function convertToInteractive(key) {\n",
              "        const element = document.querySelector('#df-7af29646-a512-4999-9e79-5e3ceb711f8e');\n",
              "        const dataTable =\n",
              "          await google.colab.kernel.invokeFunction('convertToInteractive',\n",
              "                                                    [key], {});\n",
              "        if (!dataTable) return;\n",
              "\n",
              "        const docLinkHtml = 'Like what you see? Visit the ' +\n",
              "          '<a target=\"_blank\" href=https://colab.research.google.com/notebooks/data_table.ipynb>data table notebook</a>'\n",
              "          + ' to learn more about interactive tables.';\n",
              "        element.innerHTML = '';\n",
              "        dataTable['output_type'] = 'display_data';\n",
              "        await google.colab.output.renderOutput(dataTable, element);\n",
              "        const docLink = document.createElement('div');\n",
              "        docLink.innerHTML = docLinkHtml;\n",
              "        element.appendChild(docLink);\n",
              "      }\n",
              "    </script>\n",
              "  </div>\n",
              "\n",
              "\n",
              "<div id=\"df-db748645-a3c6-44aa-80bb-1a84feedcb25\">\n",
              "  <button class=\"colab-df-quickchart\" onclick=\"quickchart('df-db748645-a3c6-44aa-80bb-1a84feedcb25')\"\n",
              "            title=\"Suggest charts\"\n",
              "            style=\"display:none;\">\n",
              "\n",
              "<svg xmlns=\"http://www.w3.org/2000/svg\" height=\"24px\"viewBox=\"0 0 24 24\"\n",
              "     width=\"24px\">\n",
              "    <g>\n",
              "        <path d=\"M19 3H5c-1.1 0-2 .9-2 2v14c0 1.1.9 2 2 2h14c1.1 0 2-.9 2-2V5c0-1.1-.9-2-2-2zM9 17H7v-7h2v7zm4 0h-2V7h2v10zm4 0h-2v-4h2v4z\"/>\n",
              "    </g>\n",
              "</svg>\n",
              "  </button>\n",
              "\n",
              "<style>\n",
              "  .colab-df-quickchart {\n",
              "      --bg-color: #E8F0FE;\n",
              "      --fill-color: #1967D2;\n",
              "      --hover-bg-color: #E2EBFA;\n",
              "      --hover-fill-color: #174EA6;\n",
              "      --disabled-fill-color: #AAA;\n",
              "      --disabled-bg-color: #DDD;\n",
              "  }\n",
              "\n",
              "  [theme=dark] .colab-df-quickchart {\n",
              "      --bg-color: #3B4455;\n",
              "      --fill-color: #D2E3FC;\n",
              "      --hover-bg-color: #434B5C;\n",
              "      --hover-fill-color: #FFFFFF;\n",
              "      --disabled-bg-color: #3B4455;\n",
              "      --disabled-fill-color: #666;\n",
              "  }\n",
              "\n",
              "  .colab-df-quickchart {\n",
              "    background-color: var(--bg-color);\n",
              "    border: none;\n",
              "    border-radius: 50%;\n",
              "    cursor: pointer;\n",
              "    display: none;\n",
              "    fill: var(--fill-color);\n",
              "    height: 32px;\n",
              "    padding: 0;\n",
              "    width: 32px;\n",
              "  }\n",
              "\n",
              "  .colab-df-quickchart:hover {\n",
              "    background-color: var(--hover-bg-color);\n",
              "    box-shadow: 0 1px 2px rgba(60, 64, 67, 0.3), 0 1px 3px 1px rgba(60, 64, 67, 0.15);\n",
              "    fill: var(--button-hover-fill-color);\n",
              "  }\n",
              "\n",
              "  .colab-df-quickchart-complete:disabled,\n",
              "  .colab-df-quickchart-complete:disabled:hover {\n",
              "    background-color: var(--disabled-bg-color);\n",
              "    fill: var(--disabled-fill-color);\n",
              "    box-shadow: none;\n",
              "  }\n",
              "\n",
              "  .colab-df-spinner {\n",
              "    border: 2px solid var(--fill-color);\n",
              "    border-color: transparent;\n",
              "    border-bottom-color: var(--fill-color);\n",
              "    animation:\n",
              "      spin 1s steps(1) infinite;\n",
              "  }\n",
              "\n",
              "  @keyframes spin {\n",
              "    0% {\n",
              "      border-color: transparent;\n",
              "      border-bottom-color: var(--fill-color);\n",
              "      border-left-color: var(--fill-color);\n",
              "    }\n",
              "    20% {\n",
              "      border-color: transparent;\n",
              "      border-left-color: var(--fill-color);\n",
              "      border-top-color: var(--fill-color);\n",
              "    }\n",
              "    30% {\n",
              "      border-color: transparent;\n",
              "      border-left-color: var(--fill-color);\n",
              "      border-top-color: var(--fill-color);\n",
              "      border-right-color: var(--fill-color);\n",
              "    }\n",
              "    40% {\n",
              "      border-color: transparent;\n",
              "      border-right-color: var(--fill-color);\n",
              "      border-top-color: var(--fill-color);\n",
              "    }\n",
              "    60% {\n",
              "      border-color: transparent;\n",
              "      border-right-color: var(--fill-color);\n",
              "    }\n",
              "    80% {\n",
              "      border-color: transparent;\n",
              "      border-right-color: var(--fill-color);\n",
              "      border-bottom-color: var(--fill-color);\n",
              "    }\n",
              "    90% {\n",
              "      border-color: transparent;\n",
              "      border-bottom-color: var(--fill-color);\n",
              "    }\n",
              "  }\n",
              "</style>\n",
              "\n",
              "  <script>\n",
              "    async function quickchart(key) {\n",
              "      const quickchartButtonEl =\n",
              "        document.querySelector('#' + key + ' button');\n",
              "      quickchartButtonEl.disabled = true;  // To prevent multiple clicks.\n",
              "      quickchartButtonEl.classList.add('colab-df-spinner');\n",
              "      try {\n",
              "        const charts = await google.colab.kernel.invokeFunction(\n",
              "            'suggestCharts', [key], {});\n",
              "      } catch (error) {\n",
              "        console.error('Error during call to suggestCharts:', error);\n",
              "      }\n",
              "      quickchartButtonEl.classList.remove('colab-df-spinner');\n",
              "      quickchartButtonEl.classList.add('colab-df-quickchart-complete');\n",
              "    }\n",
              "    (() => {\n",
              "      let quickchartButtonEl =\n",
              "        document.querySelector('#df-db748645-a3c6-44aa-80bb-1a84feedcb25 button');\n",
              "      quickchartButtonEl.style.display =\n",
              "        google.colab.kernel.accessAllowed ? 'block' : 'none';\n",
              "    })();\n",
              "  </script>\n",
              "</div>\n",
              "\n",
              "    </div>\n",
              "  </div>\n"
            ],
            "application/vnd.google.colaboratory.intrinsic+json": {
              "type": "dataframe",
              "variable_name": "data"
            }
          },
          "metadata": {},
          "execution_count": 18
        }
      ]
    },
    {
      "cell_type": "code",
      "source": [
        "from google.colab import files\n",
        "\n",
        "data.to_csv('data_radiation.csv', index=False)\n",
        "\n",
        "files.download('data_radiation.csv')\n"
      ],
      "metadata": {
        "colab": {
          "base_uri": "https://localhost:8080/",
          "height": 17
        },
        "id": "99l0dmmxqNPO",
        "outputId": "99335f27-7949-4194-82a1-2a81a36ea555"
      },
      "execution_count": 19,
      "outputs": [
        {
          "output_type": "display_data",
          "data": {
            "text/plain": [
              "<IPython.core.display.Javascript object>"
            ],
            "application/javascript": [
              "\n",
              "    async function download(id, filename, size) {\n",
              "      if (!google.colab.kernel.accessAllowed) {\n",
              "        return;\n",
              "      }\n",
              "      const div = document.createElement('div');\n",
              "      const label = document.createElement('label');\n",
              "      label.textContent = `Downloading \"${filename}\": `;\n",
              "      div.appendChild(label);\n",
              "      const progress = document.createElement('progress');\n",
              "      progress.max = size;\n",
              "      div.appendChild(progress);\n",
              "      document.body.appendChild(div);\n",
              "\n",
              "      const buffers = [];\n",
              "      let downloaded = 0;\n",
              "\n",
              "      const channel = await google.colab.kernel.comms.open(id);\n",
              "      // Send a message to notify the kernel that we're ready.\n",
              "      channel.send({})\n",
              "\n",
              "      for await (const message of channel.messages) {\n",
              "        // Send a message to notify the kernel that we're ready.\n",
              "        channel.send({})\n",
              "        if (message.buffers) {\n",
              "          for (const buffer of message.buffers) {\n",
              "            buffers.push(buffer);\n",
              "            downloaded += buffer.byteLength;\n",
              "            progress.value = downloaded;\n",
              "          }\n",
              "        }\n",
              "      }\n",
              "      const blob = new Blob(buffers, {type: 'application/binary'});\n",
              "      const a = document.createElement('a');\n",
              "      a.href = window.URL.createObjectURL(blob);\n",
              "      a.download = filename;\n",
              "      div.appendChild(a);\n",
              "      a.click();\n",
              "      div.remove();\n",
              "    }\n",
              "  "
            ]
          },
          "metadata": {}
        },
        {
          "output_type": "display_data",
          "data": {
            "text/plain": [
              "<IPython.core.display.Javascript object>"
            ],
            "application/javascript": [
              "download(\"download_39cc397a-3b2b-404b-845a-e7a3700e06fb\", \"data_radiation.csv\", 29893843)"
            ]
          },
          "metadata": {}
        }
      ]
    },
    {
      "cell_type": "code",
      "source": [
        "data=pd.read_csv(\"/content/data_radiation.csv\")"
      ],
      "metadata": {
        "id": "vkZgfRiu_PKY"
      },
      "execution_count": 78,
      "outputs": []
    },
    {
      "cell_type": "code",
      "source": [
        "data.isna().sum()"
      ],
      "metadata": {
        "colab": {
          "base_uri": "https://localhost:8080/",
          "height": 649
        },
        "id": "QGLqIM7qr8bw",
        "outputId": "3177392a-af4b-459e-c374-5c2ef84a590a"
      },
      "execution_count": 63,
      "outputs": [
        {
          "output_type": "execute_result",
          "data": {
            "text/plain": [
              "time                   0\n",
              "precipitation          0\n",
              "snowfall               0\n",
              "temperature_2m         0\n",
              "relativehumidity_2m    0\n",
              "surface_pressure       0\n",
              "windspeed_10m          0\n",
              "winddirection_10m      0\n",
              "windgusts_10m          0\n",
              "cloudcover             0\n",
              "elevation              0\n",
              "latitude               0\n",
              "longitude              0\n",
              "timezone               0\n",
              "sunrise                0\n",
              "sunset                 0\n",
              "id                     0\n",
              "kWh                    0\n",
              "dtype: int64"
            ],
            "text/html": [
              "<div>\n",
              "<style scoped>\n",
              "    .dataframe tbody tr th:only-of-type {\n",
              "        vertical-align: middle;\n",
              "    }\n",
              "\n",
              "    .dataframe tbody tr th {\n",
              "        vertical-align: top;\n",
              "    }\n",
              "\n",
              "    .dataframe thead th {\n",
              "        text-align: right;\n",
              "    }\n",
              "</style>\n",
              "<table border=\"1\" class=\"dataframe\">\n",
              "  <thead>\n",
              "    <tr style=\"text-align: right;\">\n",
              "      <th></th>\n",
              "      <th>0</th>\n",
              "    </tr>\n",
              "  </thead>\n",
              "  <tbody>\n",
              "    <tr>\n",
              "      <th>time</th>\n",
              "      <td>0</td>\n",
              "    </tr>\n",
              "    <tr>\n",
              "      <th>precipitation</th>\n",
              "      <td>0</td>\n",
              "    </tr>\n",
              "    <tr>\n",
              "      <th>snowfall</th>\n",
              "      <td>0</td>\n",
              "    </tr>\n",
              "    <tr>\n",
              "      <th>temperature_2m</th>\n",
              "      <td>0</td>\n",
              "    </tr>\n",
              "    <tr>\n",
              "      <th>relativehumidity_2m</th>\n",
              "      <td>0</td>\n",
              "    </tr>\n",
              "    <tr>\n",
              "      <th>surface_pressure</th>\n",
              "      <td>0</td>\n",
              "    </tr>\n",
              "    <tr>\n",
              "      <th>windspeed_10m</th>\n",
              "      <td>0</td>\n",
              "    </tr>\n",
              "    <tr>\n",
              "      <th>winddirection_10m</th>\n",
              "      <td>0</td>\n",
              "    </tr>\n",
              "    <tr>\n",
              "      <th>windgusts_10m</th>\n",
              "      <td>0</td>\n",
              "    </tr>\n",
              "    <tr>\n",
              "      <th>cloudcover</th>\n",
              "      <td>0</td>\n",
              "    </tr>\n",
              "    <tr>\n",
              "      <th>elevation</th>\n",
              "      <td>0</td>\n",
              "    </tr>\n",
              "    <tr>\n",
              "      <th>latitude</th>\n",
              "      <td>0</td>\n",
              "    </tr>\n",
              "    <tr>\n",
              "      <th>longitude</th>\n",
              "      <td>0</td>\n",
              "    </tr>\n",
              "    <tr>\n",
              "      <th>timezone</th>\n",
              "      <td>0</td>\n",
              "    </tr>\n",
              "    <tr>\n",
              "      <th>sunrise</th>\n",
              "      <td>0</td>\n",
              "    </tr>\n",
              "    <tr>\n",
              "      <th>sunset</th>\n",
              "      <td>0</td>\n",
              "    </tr>\n",
              "    <tr>\n",
              "      <th>id</th>\n",
              "      <td>0</td>\n",
              "    </tr>\n",
              "    <tr>\n",
              "      <th>kWh</th>\n",
              "      <td>0</td>\n",
              "    </tr>\n",
              "  </tbody>\n",
              "</table>\n",
              "</div><br><label><b>dtype:</b> int64</label>"
            ]
          },
          "metadata": {},
          "execution_count": 63
        }
      ]
    },
    {
      "cell_type": "code",
      "source": [
        "data.dtypes"
      ],
      "metadata": {
        "colab": {
          "base_uri": "https://localhost:8080/",
          "height": 649
        },
        "id": "eKDcVcnAsVCq",
        "outputId": "e08a1eaa-a744-4c10-e144-a7ac466ad23a"
      },
      "execution_count": 28,
      "outputs": [
        {
          "output_type": "execute_result",
          "data": {
            "text/plain": [
              "time                    object\n",
              "precipitation          float64\n",
              "snowfall               float64\n",
              "temperature_2m         float64\n",
              "relativehumidity_2m      int64\n",
              "surface_pressure       float64\n",
              "windspeed_10m          float64\n",
              "winddirection_10m        int64\n",
              "windgusts_10m          float64\n",
              "cloudcover               int64\n",
              "elevation              float64\n",
              "latitude               float64\n",
              "longitude              float64\n",
              "timezone                object\n",
              "sunrise                 object\n",
              "sunset                  object\n",
              "id                     float64\n",
              "kWh                    float64\n",
              "dtype: object"
            ],
            "text/html": [
              "<div>\n",
              "<style scoped>\n",
              "    .dataframe tbody tr th:only-of-type {\n",
              "        vertical-align: middle;\n",
              "    }\n",
              "\n",
              "    .dataframe tbody tr th {\n",
              "        vertical-align: top;\n",
              "    }\n",
              "\n",
              "    .dataframe thead th {\n",
              "        text-align: right;\n",
              "    }\n",
              "</style>\n",
              "<table border=\"1\" class=\"dataframe\">\n",
              "  <thead>\n",
              "    <tr style=\"text-align: right;\">\n",
              "      <th></th>\n",
              "      <th>0</th>\n",
              "    </tr>\n",
              "  </thead>\n",
              "  <tbody>\n",
              "    <tr>\n",
              "      <th>time</th>\n",
              "      <td>object</td>\n",
              "    </tr>\n",
              "    <tr>\n",
              "      <th>precipitation</th>\n",
              "      <td>float64</td>\n",
              "    </tr>\n",
              "    <tr>\n",
              "      <th>snowfall</th>\n",
              "      <td>float64</td>\n",
              "    </tr>\n",
              "    <tr>\n",
              "      <th>temperature_2m</th>\n",
              "      <td>float64</td>\n",
              "    </tr>\n",
              "    <tr>\n",
              "      <th>relativehumidity_2m</th>\n",
              "      <td>int64</td>\n",
              "    </tr>\n",
              "    <tr>\n",
              "      <th>surface_pressure</th>\n",
              "      <td>float64</td>\n",
              "    </tr>\n",
              "    <tr>\n",
              "      <th>windspeed_10m</th>\n",
              "      <td>float64</td>\n",
              "    </tr>\n",
              "    <tr>\n",
              "      <th>winddirection_10m</th>\n",
              "      <td>int64</td>\n",
              "    </tr>\n",
              "    <tr>\n",
              "      <th>windgusts_10m</th>\n",
              "      <td>float64</td>\n",
              "    </tr>\n",
              "    <tr>\n",
              "      <th>cloudcover</th>\n",
              "      <td>int64</td>\n",
              "    </tr>\n",
              "    <tr>\n",
              "      <th>elevation</th>\n",
              "      <td>float64</td>\n",
              "    </tr>\n",
              "    <tr>\n",
              "      <th>latitude</th>\n",
              "      <td>float64</td>\n",
              "    </tr>\n",
              "    <tr>\n",
              "      <th>longitude</th>\n",
              "      <td>float64</td>\n",
              "    </tr>\n",
              "    <tr>\n",
              "      <th>timezone</th>\n",
              "      <td>object</td>\n",
              "    </tr>\n",
              "    <tr>\n",
              "      <th>sunrise</th>\n",
              "      <td>object</td>\n",
              "    </tr>\n",
              "    <tr>\n",
              "      <th>sunset</th>\n",
              "      <td>object</td>\n",
              "    </tr>\n",
              "    <tr>\n",
              "      <th>id</th>\n",
              "      <td>float64</td>\n",
              "    </tr>\n",
              "    <tr>\n",
              "      <th>kWh</th>\n",
              "      <td>float64</td>\n",
              "    </tr>\n",
              "  </tbody>\n",
              "</table>\n",
              "</div><br><label><b>dtype:</b> object</label>"
            ]
          },
          "metadata": {},
          "execution_count": 28
        }
      ]
    },
    {
      "cell_type": "code",
      "source": [
        "data.columns"
      ],
      "metadata": {
        "colab": {
          "base_uri": "https://localhost:8080/"
        },
        "id": "dC0-jn-2s0Mx",
        "outputId": "f707485d-f932-44f1-ec4c-85d641e6fbf7"
      },
      "execution_count": 33,
      "outputs": [
        {
          "output_type": "execute_result",
          "data": {
            "text/plain": [
              "Index(['time', 'precipitation', 'snowfall', 'temperature_2m',\n",
              "       'relativehumidity_2m', 'surface_pressure', 'windspeed_10m',\n",
              "       'winddirection_10m', 'windgusts_10m', 'cloudcover', 'elevation',\n",
              "       'latitude', 'longitude', 'timezone', 'sunrise', 'sunset', 'id', 'kWh'],\n",
              "      dtype='object')"
            ]
          },
          "metadata": {},
          "execution_count": 33
        }
      ]
    },
    {
      "cell_type": "markdown",
      "source": [
        "Distribution"
      ],
      "metadata": {
        "id": "2njVu7u3vsS8"
      }
    },
    {
      "cell_type": "code",
      "source": [
        "import scipy.stats as stats\n",
        "plt.figure(figsize=(8, 6))\n",
        "stats.probplot(data['temperature_2m'], dist=\"norm\", plot=plt)\n",
        "plt.title('QQ Plot de temperature_2m')\n",
        "plt.show()"
      ],
      "metadata": {
        "colab": {
          "base_uri": "https://localhost:8080/",
          "height": 564
        },
        "id": "jPCF47Zv1SUY",
        "outputId": "6dfc85c5-6216-460f-8b3e-df84a85bebf0"
      },
      "execution_count": 36,
      "outputs": [
        {
          "output_type": "display_data",
          "data": {
            "text/plain": [
              "<Figure size 800x600 with 1 Axes>"
            ],
            "image/png": "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\n"
          },
          "metadata": {}
        }
      ]
    },
    {
      "cell_type": "markdown",
      "source": [
        "Normelize data"
      ],
      "metadata": {
        "id": "pfgeXQM94rmA"
      }
    },
    {
      "cell_type": "code",
      "source": [
        "from sklearn.preprocessing import StandardScaler\n",
        "\n",
        "numeric_columns = data.select_dtypes(include=[np.number]).columns\n",
        "\n",
        "scaler = StandardScaler()\n",
        "\n",
        "data[numeric_columns] = scaler.fit_transform(data[numeric_columns])\n"
      ],
      "metadata": {
        "id": "OPAnwyDX4VkO"
      },
      "execution_count": 65,
      "outputs": []
    },
    {
      "cell_type": "code",
      "source": [
        "data.columns"
      ],
      "metadata": {
        "colab": {
          "base_uri": "https://localhost:8080/"
        },
        "id": "0o0mz1U753ev",
        "outputId": "744b9365-3da0-4090-f71f-ee7c37c5bdf7"
      },
      "execution_count": 64,
      "outputs": [
        {
          "output_type": "execute_result",
          "data": {
            "text/plain": [
              "Index(['time', 'precipitation', 'snowfall', 'temperature_2m',\n",
              "       'relativehumidity_2m', 'surface_pressure', 'windspeed_10m',\n",
              "       'winddirection_10m', 'windgusts_10m', 'cloudcover', 'elevation',\n",
              "       'latitude', 'longitude', 'timezone', 'sunrise', 'sunset', 'id', 'kWh'],\n",
              "      dtype='object')"
            ]
          },
          "metadata": {},
          "execution_count": 64
        }
      ]
    },
    {
      "cell_type": "markdown",
      "source": [
        "Modeling"
      ],
      "metadata": {
        "id": "PXqXGv7L4vv8"
      }
    },
    {
      "cell_type": "code",
      "source": [
        "import seaborn as sns\n",
        "import matplotlib.pyplot as plt\n",
        "numeric_columns = data.select_dtypes(include=[np.number]).columns\n",
        "corr_matrix = data[numeric_columns].corr()\n",
        "plt.figure(figsize=(12, 10))\n",
        "\n",
        "sns.heatmap(corr_matrix, annot=True, cmap=\"coolwarm\", fmt=\".2f\", linewidths=0.5, cbar=True, square=True)\n",
        "\n",
        "plt.title(\"Matrice de Corrélation des Variables Numériques\")\n",
        "\n",
        "plt.tight_layout()\n",
        "plt.show()\n"
      ],
      "metadata": {
        "colab": {
          "base_uri": "https://localhost:8080/",
          "height": 1000
        },
        "id": "JYCDyp0O52wN",
        "outputId": "d195a746-2691-47e0-bea4-54f3e65e50b3"
      },
      "execution_count": 39,
      "outputs": [
        {
          "output_type": "display_data",
          "data": {
            "text/plain": [
              "<Figure size 1200x1000 with 2 Axes>"
            ],
            "image/png": "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\n"
          },
          "metadata": {}
        }
      ]
    },
    {
      "cell_type": "code",
      "source": [
        "data.drop(columns=[\"windgusts_10m\"], axis=1, inplace=True)\n"
      ],
      "metadata": {
        "id": "fv5uYjdW62Xi"
      },
      "execution_count": 79,
      "outputs": []
    },
    {
      "cell_type": "code",
      "source": [
        "data.columns"
      ],
      "metadata": {
        "colab": {
          "base_uri": "https://localhost:8080/"
        },
        "id": "IZ5hXL7p-ct0",
        "outputId": "671d8830-4103-4da1-aacd-f377715be7ae"
      },
      "execution_count": 67,
      "outputs": [
        {
          "output_type": "execute_result",
          "data": {
            "text/plain": [
              "Index(['time', 'precipitation', 'snowfall', 'temperature_2m',\n",
              "       'relativehumidity_2m', 'surface_pressure', 'windspeed_10m',\n",
              "       'winddirection_10m', 'cloudcover', 'elevation', 'latitude', 'longitude',\n",
              "       'timezone', 'sunrise', 'sunset', 'id', 'kWh'],\n",
              "      dtype='object')"
            ]
          },
          "metadata": {},
          "execution_count": 67
        }
      ]
    },
    {
      "cell_type": "code",
      "source": [
        "data.dtypes"
      ],
      "metadata": {
        "colab": {
          "base_uri": "https://localhost:8080/",
          "height": 617
        },
        "id": "LmdpGA2w-4is",
        "outputId": "a2a060d9-623a-446e-de7d-e4a8a24ee54b"
      },
      "execution_count": 68,
      "outputs": [
        {
          "output_type": "execute_result",
          "data": {
            "text/plain": [
              "time                    object\n",
              "precipitation          float64\n",
              "snowfall               float64\n",
              "temperature_2m         float64\n",
              "relativehumidity_2m    float64\n",
              "surface_pressure       float64\n",
              "windspeed_10m          float64\n",
              "winddirection_10m      float64\n",
              "cloudcover             float64\n",
              "elevation              float64\n",
              "latitude               float64\n",
              "longitude              float64\n",
              "timezone                object\n",
              "sunrise                 object\n",
              "sunset                  object\n",
              "id                     float64\n",
              "kWh                    float64\n",
              "dtype: object"
            ],
            "text/html": [
              "<div>\n",
              "<style scoped>\n",
              "    .dataframe tbody tr th:only-of-type {\n",
              "        vertical-align: middle;\n",
              "    }\n",
              "\n",
              "    .dataframe tbody tr th {\n",
              "        vertical-align: top;\n",
              "    }\n",
              "\n",
              "    .dataframe thead th {\n",
              "        text-align: right;\n",
              "    }\n",
              "</style>\n",
              "<table border=\"1\" class=\"dataframe\">\n",
              "  <thead>\n",
              "    <tr style=\"text-align: right;\">\n",
              "      <th></th>\n",
              "      <th>0</th>\n",
              "    </tr>\n",
              "  </thead>\n",
              "  <tbody>\n",
              "    <tr>\n",
              "      <th>time</th>\n",
              "      <td>object</td>\n",
              "    </tr>\n",
              "    <tr>\n",
              "      <th>precipitation</th>\n",
              "      <td>float64</td>\n",
              "    </tr>\n",
              "    <tr>\n",
              "      <th>snowfall</th>\n",
              "      <td>float64</td>\n",
              "    </tr>\n",
              "    <tr>\n",
              "      <th>temperature_2m</th>\n",
              "      <td>float64</td>\n",
              "    </tr>\n",
              "    <tr>\n",
              "      <th>relativehumidity_2m</th>\n",
              "      <td>float64</td>\n",
              "    </tr>\n",
              "    <tr>\n",
              "      <th>surface_pressure</th>\n",
              "      <td>float64</td>\n",
              "    </tr>\n",
              "    <tr>\n",
              "      <th>windspeed_10m</th>\n",
              "      <td>float64</td>\n",
              "    </tr>\n",
              "    <tr>\n",
              "      <th>winddirection_10m</th>\n",
              "      <td>float64</td>\n",
              "    </tr>\n",
              "    <tr>\n",
              "      <th>cloudcover</th>\n",
              "      <td>float64</td>\n",
              "    </tr>\n",
              "    <tr>\n",
              "      <th>elevation</th>\n",
              "      <td>float64</td>\n",
              "    </tr>\n",
              "    <tr>\n",
              "      <th>latitude</th>\n",
              "      <td>float64</td>\n",
              "    </tr>\n",
              "    <tr>\n",
              "      <th>longitude</th>\n",
              "      <td>float64</td>\n",
              "    </tr>\n",
              "    <tr>\n",
              "      <th>timezone</th>\n",
              "      <td>object</td>\n",
              "    </tr>\n",
              "    <tr>\n",
              "      <th>sunrise</th>\n",
              "      <td>object</td>\n",
              "    </tr>\n",
              "    <tr>\n",
              "      <th>sunset</th>\n",
              "      <td>object</td>\n",
              "    </tr>\n",
              "    <tr>\n",
              "      <th>id</th>\n",
              "      <td>float64</td>\n",
              "    </tr>\n",
              "    <tr>\n",
              "      <th>kWh</th>\n",
              "      <td>float64</td>\n",
              "    </tr>\n",
              "  </tbody>\n",
              "</table>\n",
              "</div><br><label><b>dtype:</b> object</label>"
            ]
          },
          "metadata": {},
          "execution_count": 68
        }
      ]
    },
    {
      "cell_type": "markdown",
      "source": [
        "Linear regression"
      ],
      "metadata": {
        "id": "3xd_Pc539Eb1"
      }
    },
    {
      "cell_type": "code",
      "source": [
        "import pandas as pd\n",
        "from sklearn.model_selection import train_test_split\n",
        "from sklearn.linear_model import LinearRegression\n",
        "\n",
        "\n",
        "data['time'] = pd.to_datetime(data['time'])\n",
        "data['sunrise'] = pd.to_datetime(data['sunrise'])\n",
        "data['sunset'] = pd.to_datetime(data['sunset'])\n",
        "\n",
        "data['year'] = data['time'].dt.year\n",
        "data['month'] = data['time'].dt.month\n",
        "data['day'] = data['time'].dt.day\n",
        "data['hour'] = data['time'].dt.hour\n",
        "data['minute'] = data['time'].dt.minute\n",
        "\n",
        "data['sunrise_hour'] = data['sunrise'].dt.hour\n",
        "data['sunset_hour'] = data['sunset'].dt.hour\n",
        "\n",
        "data = data.drop(columns=['time', 'sunrise', 'sunset'])\n",
        "\n",
        "data = pd.get_dummies(data, columns=['timezone'], drop_first=True)\n",
        "\n",
        "X = data.drop(columns=['kWh', 'id'])\n",
        "y = data['kWh']\n",
        "\n",
        "X_train, X_test, y_train, y_test = train_test_split(X, y, test_size=0.2, random_state=42)\n",
        "\n",
        "\n"
      ],
      "metadata": {
        "id": "Q-PH9cFp9D6b"
      },
      "execution_count": 80,
      "outputs": []
    },
    {
      "cell_type": "code",
      "source": [
        "model = LinearRegression()\n",
        "model.fit(X_train, y_train)\n",
        "\n",
        "y_pred = model.predict(X_test)\n",
        "\n",
        "mse = mean_squared_error(y_test, y_pred)\n",
        "print(f\"Mean Squared Error (MSE): {mse}\")\n",
        "\n",
        "r2 = r2_score(y_test, y_pred)\n",
        "print(f\"R-squared (R²): {r2}\")"
      ],
      "metadata": {
        "colab": {
          "base_uri": "https://localhost:8080/"
        },
        "id": "NmarBA0EBCuZ",
        "outputId": "c43fda61-397c-4dd5-b96f-734e8d6f4989"
      },
      "execution_count": 81,
      "outputs": [
        {
          "output_type": "stream",
          "name": "stdout",
          "text": [
            "Mean Squared Error (MSE): 4.787545674474702e-23\n",
            "R-squared (R²): 1.0\n"
          ]
        }
      ]
    },
    {
      "cell_type": "code",
      "source": [
        "from sklearn.model_selection import learning_curve\n",
        "\n",
        "\n",
        "# Calculer les courbes d'apprentissage\n",
        "train_sizes, train_scores, test_scores = learning_curve(\n",
        "    model, X, y, cv=5, scoring='neg_mean_squared_error', n_jobs=-1, train_sizes=[0.1, 0.2, 0.3, 0.4, 0.5, 0.6, 0.7, 0.8, 0.9, 1.0]\n",
        ")\n",
        "\n",
        "# Calculer les erreurs moyennes d'entraînement et de test\n",
        "train_errors = -train_scores.mean(axis=1)\n",
        "test_errors = -test_scores.mean(axis=1)\n",
        "\n",
        "# Tracer les courbes d'apprentissage\n",
        "plt.plot(train_sizes, train_errors, label=\"Erreur d'entraînement\")\n",
        "plt.plot(train_sizes, test_errors, label=\"Erreur de test\")\n",
        "plt.title('Courbes d\\'apprentissage')\n",
        "plt.xlabel('Taille de l\\'ensemble d\\'entraînement')\n",
        "plt.ylabel('Erreur quadratique moyenne')\n",
        "plt.legend()\n",
        "plt.show()\n"
      ],
      "metadata": {
        "colab": {
          "base_uri": "https://localhost:8080/",
          "height": 472
        },
        "id": "oxPzapp_Cfpc",
        "outputId": "675da15f-6555-455a-828c-33cc42bfb1e5"
      },
      "execution_count": 83,
      "outputs": [
        {
          "output_type": "display_data",
          "data": {
            "text/plain": [
              "<Figure size 640x480 with 1 Axes>"
            ],
            "image/png": "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\n"
          },
          "metadata": {}
        }
      ]
    },
    {
      "cell_type": "markdown",
      "source": [
        "an overfitting"
      ],
      "metadata": {
        "id": "8PgI5xFXDIKC"
      }
    },
    {
      "cell_type": "markdown",
      "source": [
        "lasso"
      ],
      "metadata": {
        "id": "38EKi90rCAb1"
      }
    },
    {
      "cell_type": "code",
      "source": [
        "from sklearn.linear_model import Lasso\n",
        "lasso = Lasso(alpha=0.1)\n",
        "lasso.fit(X_train, y_train)\n",
        "\n",
        "y_pred = lasso.predict(X_test)\n",
        "\n",
        "mse = mean_squared_error(y_test, y_pred)\n",
        "print(f\"Mean Squared Error (MSE) Lasso: {mse}\")\n",
        "\n",
        "r2 = r2_score(y_test, y_pred)\n",
        "print(f\"R-squared (R²) Lasso: {r2}\")"
      ],
      "metadata": {
        "colab": {
          "base_uri": "https://localhost:8080/"
        },
        "id": "QJrtZsLcBjCr",
        "outputId": "a88c4227-7d22-4683-f664-f00250e86396"
      },
      "execution_count": 82,
      "outputs": [
        {
          "output_type": "stream",
          "name": "stdout",
          "text": [
            "Mean Squared Error (MSE) Lasso: 17.631181000803334\n",
            "R-squared (R²) Lasso: 0.9892144288924413\n"
          ]
        }
      ]
    },
    {
      "cell_type": "markdown",
      "source": [
        "random forest"
      ],
      "metadata": {
        "id": "7nUqbgJKCC68"
      }
    },
    {
      "cell_type": "code",
      "source": [
        "rf = RandomForestRegressor(n_estimators=100, random_state=42)\n",
        "\n",
        "rf.fit(X_train, y_train)\n",
        "\n",
        "y_pred = rf.predict(X_test)\n",
        "\n",
        "mse = mean_squared_error(y_test, y_pred)\n",
        "print(f\"Mean Squared Error (MSE) Random Forest: {mse}\")\n",
        "\n",
        "r2 = r2_score(y_test, y_pred)\n",
        "print(f\"R-squared (R²) Random Forest: {r2}\")"
      ],
      "metadata": {
        "colab": {
          "base_uri": "https://localhost:8080/"
        },
        "id": "WvhzVG6nCCd0",
        "outputId": "c6a83a51-b448-48ca-a502-e1059654fcd3"
      },
      "execution_count": 84,
      "outputs": [
        {
          "output_type": "stream",
          "name": "stdout",
          "text": [
            "Mean Squared Error (MSE) Random Forest: 1.2718364252994933e-24\n",
            "R-squared (R²) Random Forest: 1.0\n"
          ]
        }
      ]
    },
    {
      "cell_type": "code",
      "source": [
        "from sklearn.model_selection import cross_val_score\n",
        "\n",
        "# Prédictions sur les données d'entraînement\n",
        "y_train_pred = rf.predict(X_train)\n",
        "\n",
        "train_mse = mean_squared_error(y_train, y_train_pred)\n",
        "train_r2 = r2_score(y_train, y_train_pred)\n",
        "\n",
        "print(f\"Mean Squared Error (MSE) sur l'entraînement: {train_mse}\")\n",
        "print(f\"R-squared (R²) sur l'entraînement: {train_r2}\")\n",
        "\n",
        "# Prédictions sur les données de test\n",
        "y_test_pred = rf.predict(X_test)\n",
        "\n",
        "test_mse = mean_squared_error(y_test, y_test_pred)\n",
        "test_r2 = r2_score(y_test, y_test_pred)\n",
        "\n",
        "print(f\"Mean Squared Error (MSE) sur le test: {test_mse}\")\n",
        "print(f\"R-squared (R²) sur le test: {test_r2}\")\n",
        "\n",
        "# Validation croisée avec 5 plis (folds) pour estimer la performance sur l'ensemble des données d'entraînement\n",
        "cv_scores = cross_val_score(rf, X_train, y_train, cv=5, scoring='neg_mean_squared_error')\n",
        "mean_cv_mse = -cv_scores.mean()\n",
        "\n",
        "print(f\"Mean Cross-validated MSE: {mean_cv_mse}\")\n"
      ],
      "metadata": {
        "colab": {
          "base_uri": "https://localhost:8080/"
        },
        "id": "Oioop7brF41p",
        "outputId": "4fbe6820-31e2-40c9-e134-ecefa9824cc4"
      },
      "execution_count": 86,
      "outputs": [
        {
          "output_type": "stream",
          "name": "stdout",
          "text": [
            "Mean Squared Error (MSE) sur l'entraînement: 1.287366954112629e-24\n",
            "R-squared (R²) sur l'entraînement: 1.0\n",
            "Mean Squared Error (MSE) sur le test: 1.2718364252994933e-24\n",
            "R-squared (R²) sur le test: 1.0\n",
            "Mean Cross-validated MSE: 8.124556651147215e-25\n"
          ]
        }
      ]
    },
    {
      "cell_type": "markdown",
      "source": [
        "so overfitting"
      ],
      "metadata": {
        "id": "iKDHGLVYGtAK"
      }
    },
    {
      "cell_type": "code",
      "source": [
        "from sklearn.model_selection import RandomizedSearchCV\n",
        "from sklearn.ensemble import RandomForestRegressor\n",
        "from sklearn.metrics import mean_squared_error, r2_score\n",
        "import numpy as np\n",
        "\n",
        "rf = RandomForestRegressor(random_state=42)\n",
        "\n",
        "param_dist = {\n",
        "    'n_estimators': np.arange(50, 100, 200),\n",
        "    'max_features': ['auto', 'sqrt', 'log2'],\n",
        "    'max_depth': [None, 10, 20, 30, 40],\n",
        "    'min_samples_split': [2, 5, 10],\n",
        "    'min_samples_leaf': [1, 2, 4],\n",
        "    'bootstrap': [True, False]\n",
        "}\n",
        "\n",
        "random_search = RandomizedSearchCV(estimator=rf, param_distributions=param_dist,\n",
        "                                   n_iter=100, cv=5, verbose=2, random_state=42, n_jobs=-1)\n",
        "\n",
        "random_search.fit(X_train, y_train)\n",
        "\n",
        "print(\"Meilleurs paramètres trouvés par RandomizedSearchCV:\")\n",
        "print(random_search.best_params_)\n",
        "\n",
        "best_rf = random_search.best_estimator_\n",
        "\n",
        "y_pred = best_rf.predict(X_test)\n",
        "\n",
        "mse = mean_squared_error(y_test, y_pred)\n",
        "print(f\"Mean Squared Error (MSE) sur le test: {mse}\")\n",
        "\n",
        "r2 = r2_score(y_test, y_pred)\n",
        "print(f\"R-squared (R²) sur le test: {r2}\")\n"
      ],
      "metadata": {
        "colab": {
          "base_uri": "https://localhost:8080/"
        },
        "id": "tvyNeqvfGvS9",
        "outputId": "e2b1fe53-ec3b-4c7b-93d5-c8cc8cd967d3"
      },
      "execution_count": 87,
      "outputs": [
        {
          "metadata": {
            "tags": null
          },
          "name": "stdout",
          "output_type": "stream",
          "text": [
            "Fitting 5 folds for each of 100 candidates, totalling 500 fits\n"
          ]
        },
        {
          "output_type": "stream",
          "name": "stderr",
          "text": [
            "/usr/local/lib/python3.10/dist-packages/sklearn/model_selection/_validation.py:540: FitFailedWarning: \n",
            "155 fits failed out of a total of 500.\n",
            "The score on these train-test partitions for these parameters will be set to nan.\n",
            "If these failures are not expected, you can try to debug them by setting error_score='raise'.\n",
            "\n",
            "Below are more details about the failures:\n",
            "--------------------------------------------------------------------------------\n",
            "155 fits failed with the following error:\n",
            "Traceback (most recent call last):\n",
            "  File \"/usr/local/lib/python3.10/dist-packages/sklearn/model_selection/_validation.py\", line 888, in _fit_and_score\n",
            "    estimator.fit(X_train, y_train, **fit_params)\n",
            "  File \"/usr/local/lib/python3.10/dist-packages/sklearn/base.py\", line 1466, in wrapper\n",
            "    estimator._validate_params()\n",
            "  File \"/usr/local/lib/python3.10/dist-packages/sklearn/base.py\", line 666, in _validate_params\n",
            "    validate_parameter_constraints(\n",
            "  File \"/usr/local/lib/python3.10/dist-packages/sklearn/utils/_param_validation.py\", line 95, in validate_parameter_constraints\n",
            "    raise InvalidParameterError(\n",
            "sklearn.utils._param_validation.InvalidParameterError: The 'max_features' parameter of RandomForestRegressor must be an int in the range [1, inf), a float in the range (0.0, 1.0], a str among {'log2', 'sqrt'} or None. Got 'auto' instead.\n",
            "\n",
            "  warnings.warn(some_fits_failed_message, FitFailedWarning)\n",
            "/usr/local/lib/python3.10/dist-packages/numpy/ma/core.py:2820: RuntimeWarning: invalid value encountered in cast\n",
            "  _data = np.array(data, dtype=dtype, copy=copy,\n",
            "/usr/local/lib/python3.10/dist-packages/sklearn/model_selection/_search.py:1103: UserWarning: One or more of the test scores are non-finite: [       nan        nan 0.9999956  0.99999849        nan        nan\n",
            " 0.99999859 0.99994771 0.99999847        nan 0.99997083 0.99999811\n",
            " 0.99999845        nan        nan        nan 0.99999894 0.9999986\n",
            " 0.9999978         nan        nan 0.9999985  0.99994586 0.99996279\n",
            " 0.99996672 0.9999984  0.99999778 0.99999893        nan 0.99999673\n",
            "        nan 0.99999816 0.99999867        nan 0.99999864        nan\n",
            " 0.99999737 0.99999824 0.99999812 0.99999849 0.99999673 0.99999656\n",
            "        nan 0.99999849 0.99999816        nan 0.9999984  0.99999893\n",
            " 0.99999742 0.99996715 0.99999673 0.99999704 0.99999814        nan\n",
            "        nan        nan 0.9999688         nan        nan 0.99994586\n",
            " 0.99999673 0.99999802 0.9999988  0.99999849 0.99999717 0.99999802\n",
            " 0.99999876 0.99999899 0.99997235 0.99999863 0.9999984  0.9999981\n",
            "        nan        nan        nan        nan        nan 0.99999668\n",
            " 0.99999859 0.99994349 0.9999987         nan        nan 0.9999981\n",
            " 0.99999907 0.9999984  0.99999673 0.9999956  0.99996945        nan\n",
            " 0.99999866 0.9999985  0.99999704 0.99999907        nan 0.9999986\n",
            " 0.9999956         nan 0.99999824 0.99999854]\n",
            "  warnings.warn(\n"
          ]
        },
        {
          "output_type": "stream",
          "name": "stdout",
          "text": [
            "Meilleurs paramètres trouvés par RandomizedSearchCV:\n",
            "{'n_estimators': 50, 'min_samples_split': 2, 'min_samples_leaf': 2, 'max_features': 'sqrt', 'max_depth': 20, 'bootstrap': False}\n",
            "Mean Squared Error (MSE) sur le test: 0.002788590608386736\n",
            "R-squared (R²) sur le test: 0.9999982941277561\n"
          ]
        }
      ]
    },
    {
      "cell_type": "markdown",
      "source": [
        "best model is best_rf"
      ],
      "metadata": {
        "id": "P_A1Y6I4MQqH"
      }
    },
    {
      "cell_type": "code",
      "source": [
        "!pip install xgboost"
      ],
      "metadata": {
        "colab": {
          "base_uri": "https://localhost:8080/"
        },
        "id": "YZwiCqgaMU33",
        "outputId": "28541f58-620e-46c6-ac20-e0ae0b072911"
      },
      "execution_count": 89,
      "outputs": [
        {
          "output_type": "stream",
          "name": "stdout",
          "text": [
            "Requirement already satisfied: xgboost in /usr/local/lib/python3.10/dist-packages (2.1.2)\n",
            "Requirement already satisfied: numpy in /usr/local/lib/python3.10/dist-packages (from xgboost) (1.26.4)\n",
            "Requirement already satisfied: nvidia-nccl-cu12 in /usr/local/lib/python3.10/dist-packages (from xgboost) (2.23.4)\n",
            "Requirement already satisfied: scipy in /usr/local/lib/python3.10/dist-packages (from xgboost) (1.13.1)\n"
          ]
        }
      ]
    },
    {
      "cell_type": "code",
      "source": [
        "import xgboost as xgb\n",
        "from sklearn.model_selection import RandomizedSearchCV\n",
        "from sklearn.metrics import mean_squared_error, r2_score\n",
        "import numpy as np\n",
        "\n",
        "xg_reg = xgb.XGBRegressor(random_state=42)\n",
        "\n",
        "param_dist = {\n",
        "    'n_estimators': np.arange(50, 100, 200),\n",
        "    'max_depth': [3, 6, 10],\n",
        "    'learning_rate': [0.01, 0.1, 0.2, 0.3],\n",
        "    'subsample': [0.7, 0.8, 1.0],\n",
        "    'colsample_bytree': [0.7, 0.8, 1.0],\n",
        "    'gamma': [0, 0.1, 0.2, 0.3],\n",
        "    'reg_alpha': [0, 0.01, 0.1],\n",
        "    'reg_lambda': [0, 0.01, 0.1]\n",
        "}\n",
        "\n",
        "random_search_xgb = RandomizedSearchCV(estimator=xg_reg, param_distributions=param_dist,\n",
        "                                       n_iter=100, cv=5, verbose=2, random_state=42, n_jobs=-1)\n",
        "\n",
        "random_search_xgb.fit(X_train, y_train)\n",
        "\n",
        "print(\"Meilleurs paramètres trouvés par RandomizedSearchCV:\")\n",
        "print(random_search_xgb.best_params_)\n",
        "\n",
        "best_xgb = random_search_xgb.best_estimator_\n",
        "\n",
        "y_pred = best_xgb.predict(X_test)\n",
        "\n",
        "mse = mean_squared_error(y_test, y_pred)\n",
        "print(f\"Mean Squared Error (MSE) sur le test: {mse}\")\n",
        "\n",
        "r2 = r2_score(y_test, y_pred)\n",
        "print(f\"R-squared (R²) sur le test: {r2}\")\n"
      ],
      "metadata": {
        "colab": {
          "base_uri": "https://localhost:8080/"
        },
        "id": "B7Ejm2B0M3lt",
        "outputId": "52acd1b2-3ed2-4c01-e6b0-7e7ee949fc39"
      },
      "execution_count": 90,
      "outputs": [
        {
          "output_type": "stream",
          "name": "stdout",
          "text": [
            "Fitting 5 folds for each of 100 candidates, totalling 500 fits\n",
            "Meilleurs paramètres trouvés par RandomizedSearchCV:\n",
            "{'subsample': 0.7, 'reg_lambda': 0.01, 'reg_alpha': 0.01, 'n_estimators': 50, 'max_depth': 3, 'learning_rate': 0.3, 'gamma': 0, 'colsample_bytree': 1.0}\n",
            "Mean Squared Error (MSE) sur le test: 2.0920124914457668e-11\n",
            "R-squared (R²) sur le test: 0.9999999999999872\n"
          ]
        }
      ]
    },
    {
      "cell_type": "code",
      "source": [
        "from sklearn.model_selection import cross_val_score\n",
        "import numpy as np\n",
        "\n",
        "cv_scores = cross_val_score(best_xgb, X_train, y_train, cv=5, scoring='neg_mean_squared_error')\n",
        "\n",
        "mean_cv_mse = -np.mean(cv_scores)\n",
        "std_cv_mse = np.std(cv_scores)\n",
        "\n",
        "print(f\"Mean Cross-validated MSE: {mean_cv_mse}\")\n",
        "print(f\"Standard deviation of Cross-validated MSE: {std_cv_mse}\")\n"
      ],
      "metadata": {
        "colab": {
          "base_uri": "https://localhost:8080/"
        },
        "id": "fZB497OaP3Ux",
        "outputId": "51a06672-c371-42bb-8542-adcfda03e278"
      },
      "execution_count": 91,
      "outputs": [
        {
          "output_type": "stream",
          "name": "stdout",
          "text": [
            "Mean Cross-validated MSE: 2.1129747218953356e-11\n",
            "Standard deviation of Cross-validated MSE: 9.016414959985673e-14\n"
          ]
        }
      ]
    },
    {
      "cell_type": "code",
      "source": [
        "y_train_pred = best_xgb.predict(X_train)\n",
        "\n",
        "# Calculer le MSE et R² sur l'entraînement\n",
        "train_mse = mean_squared_error(y_train, y_train_pred)\n",
        "train_r2 = r2_score(y_train, y_train_pred)\n",
        "print(f\"Train MSE: {train_mse}\")\n",
        "print(f\"Train R²: {train_r2}\")\n",
        "\n",
        "# Calculer le MSE et R² sur les données de test\n",
        "test_mse = mean_squared_error(y_test, y_pred)\n",
        "test_r2 = r2_score(y_test, y_pred)\n",
        "print(f\"Test MSE: {test_mse}\")\n",
        "print(f\"Test R²: {test_r2}\")\n"
      ],
      "metadata": {
        "colab": {
          "base_uri": "https://localhost:8080/"
        },
        "id": "Q8E6Et75QHuA",
        "outputId": "cf3ccaeb-8472-4601-a97b-dc409096b335"
      },
      "execution_count": 92,
      "outputs": [
        {
          "output_type": "stream",
          "name": "stdout",
          "text": [
            "Train MSE: 2.0710567607296945e-11\n",
            "Train R²: 0.9999999999999872\n",
            "Test MSE: 2.0920124914457668e-11\n",
            "Test R²: 0.9999999999999872\n"
          ]
        }
      ]
    },
    {
      "cell_type": "code",
      "source": [],
      "metadata": {
        "id": "QT8xT5U7SnK_"
      },
      "execution_count": null,
      "outputs": []
    },
    {
      "cell_type": "code",
      "source": [
        "#save model as pickle\n",

      ],
      "metadata": {
        "id": "ia9mfUGqSrh-"
      },
      "execution_count": 96,
      "outputs": []
    }
  ]
}
